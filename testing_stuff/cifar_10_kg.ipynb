{
 "metadata": {
  "kernelspec": {
   "language": "python",
   "display_name": "Python 3",
   "name": "python3"
  },
  "language_info": {
   "name": "python",
   "version": "3.7.12",
   "mimetype": "text/x-python",
   "codemirror_mode": {
    "name": "ipython",
    "version": 3
   },
   "pygments_lexer": "ipython3",
   "nbconvert_exporter": "python",
   "file_extension": ".py"
  },
  "colab": {
   "name": "cifar-10-kg.ipynb",
   "provenance": []
  },
  "accelerator": "GPU",
  "widgets": {
   "application/vnd.jupyter.widget-state+json": {
    "23afbc97763543f39a5c09b55877a0ab": {
     "model_module": "@jupyter-widgets/controls",
     "model_name": "HBoxModel",
     "model_module_version": "1.5.0",
     "state": {
      "_view_name": "HBoxView",
      "_dom_classes": [],
      "_model_name": "HBoxModel",
      "_view_module": "@jupyter-widgets/controls",
      "_model_module_version": "1.5.0",
      "_view_count": null,
      "_view_module_version": "1.5.0",
      "box_style": "",
      "layout": "IPY_MODEL_0a5a484e2dba4783bd0b76c10efe59e6",
      "_model_module": "@jupyter-widgets/controls",
      "children": [
       "IPY_MODEL_4db8b26dcfa74ccdaee7f831589f1409",
       "IPY_MODEL_6bde72afd49e413c9f14dc67964094aa",
       "IPY_MODEL_580eb7c6ad154d338ed54cbf996a31d8"
      ]
     }
    },
    "0a5a484e2dba4783bd0b76c10efe59e6": {
     "model_module": "@jupyter-widgets/base",
     "model_name": "LayoutModel",
     "model_module_version": "1.2.0",
     "state": {
      "_view_name": "LayoutView",
      "grid_template_rows": null,
      "right": null,
      "justify_content": null,
      "_view_module": "@jupyter-widgets/base",
      "overflow": null,
      "_model_module_version": "1.2.0",
      "_view_count": null,
      "flex_flow": null,
      "width": null,
      "min_width": null,
      "border": null,
      "align_items": null,
      "bottom": null,
      "_model_module": "@jupyter-widgets/base",
      "top": null,
      "grid_column": null,
      "overflow_y": null,
      "overflow_x": null,
      "grid_auto_flow": null,
      "grid_area": null,
      "grid_template_columns": null,
      "flex": null,
      "_model_name": "LayoutModel",
      "justify_items": null,
      "grid_row": null,
      "max_height": null,
      "align_content": null,
      "visibility": null,
      "align_self": null,
      "height": null,
      "min_height": null,
      "padding": null,
      "grid_auto_rows": null,
      "grid_gap": null,
      "max_width": null,
      "order": null,
      "_view_module_version": "1.2.0",
      "grid_template_areas": null,
      "object_position": null,
      "object_fit": null,
      "grid_auto_columns": null,
      "margin": null,
      "display": null,
      "left": null
     }
    },
    "4db8b26dcfa74ccdaee7f831589f1409": {
     "model_module": "@jupyter-widgets/controls",
     "model_name": "HTMLModel",
     "model_module_version": "1.5.0",
     "state": {
      "_view_name": "HTMLView",
      "style": "IPY_MODEL_8b14a0cd5b8544bab900c39f6e80a73b",
      "_dom_classes": [],
      "description": "",
      "_model_name": "HTMLModel",
      "placeholder": "​",
      "_view_module": "@jupyter-widgets/controls",
      "_model_module_version": "1.5.0",
      "value": "",
      "_view_count": null,
      "_view_module_version": "1.5.0",
      "description_tooltip": null,
      "_model_module": "@jupyter-widgets/controls",
      "layout": "IPY_MODEL_9a75850ab972412caeb4299207c5f6a1"
     }
    },
    "6bde72afd49e413c9f14dc67964094aa": {
     "model_module": "@jupyter-widgets/controls",
     "model_name": "FloatProgressModel",
     "model_module_version": "1.5.0",
     "state": {
      "_view_name": "ProgressView",
      "style": "IPY_MODEL_fdf7b40242c64cc69a9c142b015f4f66",
      "_dom_classes": [],
      "description": "",
      "_model_name": "FloatProgressModel",
      "bar_style": "success",
      "max": 135107811,
      "_view_module": "@jupyter-widgets/controls",
      "_model_module_version": "1.5.0",
      "value": 135107811,
      "_view_count": null,
      "_view_module_version": "1.5.0",
      "orientation": "horizontal",
      "min": 0,
      "description_tooltip": null,
      "_model_module": "@jupyter-widgets/controls",
      "layout": "IPY_MODEL_6f0618ae4c48409489b1e58a5593b46b"
     }
    },
    "580eb7c6ad154d338ed54cbf996a31d8": {
     "model_module": "@jupyter-widgets/controls",
     "model_name": "HTMLModel",
     "model_module_version": "1.5.0",
     "state": {
      "_view_name": "HTMLView",
      "style": "IPY_MODEL_6a8b027b94e748bfac44457b6edfe699",
      "_dom_classes": [],
      "description": "",
      "_model_name": "HTMLModel",
      "placeholder": "​",
      "_view_module": "@jupyter-widgets/controls",
      "_model_module_version": "1.5.0",
      "value": " 135108608/? [00:05&lt;00:00, 30372919.40it/s]",
      "_view_count": null,
      "_view_module_version": "1.5.0",
      "description_tooltip": null,
      "_model_module": "@jupyter-widgets/controls",
      "layout": "IPY_MODEL_df275daa0dda4b4a9f92a9abca4e6241"
     }
    },
    "8b14a0cd5b8544bab900c39f6e80a73b": {
     "model_module": "@jupyter-widgets/controls",
     "model_name": "DescriptionStyleModel",
     "model_module_version": "1.5.0",
     "state": {
      "_view_name": "StyleView",
      "_model_name": "DescriptionStyleModel",
      "description_width": "",
      "_view_module": "@jupyter-widgets/base",
      "_model_module_version": "1.5.0",
      "_view_count": null,
      "_view_module_version": "1.2.0",
      "_model_module": "@jupyter-widgets/controls"
     }
    },
    "9a75850ab972412caeb4299207c5f6a1": {
     "model_module": "@jupyter-widgets/base",
     "model_name": "LayoutModel",
     "model_module_version": "1.2.0",
     "state": {
      "_view_name": "LayoutView",
      "grid_template_rows": null,
      "right": null,
      "justify_content": null,
      "_view_module": "@jupyter-widgets/base",
      "overflow": null,
      "_model_module_version": "1.2.0",
      "_view_count": null,
      "flex_flow": null,
      "width": null,
      "min_width": null,
      "border": null,
      "align_items": null,
      "bottom": null,
      "_model_module": "@jupyter-widgets/base",
      "top": null,
      "grid_column": null,
      "overflow_y": null,
      "overflow_x": null,
      "grid_auto_flow": null,
      "grid_area": null,
      "grid_template_columns": null,
      "flex": null,
      "_model_name": "LayoutModel",
      "justify_items": null,
      "grid_row": null,
      "max_height": null,
      "align_content": null,
      "visibility": null,
      "align_self": null,
      "height": null,
      "min_height": null,
      "padding": null,
      "grid_auto_rows": null,
      "grid_gap": null,
      "max_width": null,
      "order": null,
      "_view_module_version": "1.2.0",
      "grid_template_areas": null,
      "object_position": null,
      "object_fit": null,
      "grid_auto_columns": null,
      "margin": null,
      "display": null,
      "left": null
     }
    },
    "fdf7b40242c64cc69a9c142b015f4f66": {
     "model_module": "@jupyter-widgets/controls",
     "model_name": "ProgressStyleModel",
     "model_module_version": "1.5.0",
     "state": {
      "_view_name": "StyleView",
      "_model_name": "ProgressStyleModel",
      "description_width": "",
      "_view_module": "@jupyter-widgets/base",
      "_model_module_version": "1.5.0",
      "_view_count": null,
      "_view_module_version": "1.2.0",
      "bar_color": null,
      "_model_module": "@jupyter-widgets/controls"
     }
    },
    "6f0618ae4c48409489b1e58a5593b46b": {
     "model_module": "@jupyter-widgets/base",
     "model_name": "LayoutModel",
     "model_module_version": "1.2.0",
     "state": {
      "_view_name": "LayoutView",
      "grid_template_rows": null,
      "right": null,
      "justify_content": null,
      "_view_module": "@jupyter-widgets/base",
      "overflow": null,
      "_model_module_version": "1.2.0",
      "_view_count": null,
      "flex_flow": null,
      "width": null,
      "min_width": null,
      "border": null,
      "align_items": null,
      "bottom": null,
      "_model_module": "@jupyter-widgets/base",
      "top": null,
      "grid_column": null,
      "overflow_y": null,
      "overflow_x": null,
      "grid_auto_flow": null,
      "grid_area": null,
      "grid_template_columns": null,
      "flex": null,
      "_model_name": "LayoutModel",
      "justify_items": null,
      "grid_row": null,
      "max_height": null,
      "align_content": null,
      "visibility": null,
      "align_self": null,
      "height": null,
      "min_height": null,
      "padding": null,
      "grid_auto_rows": null,
      "grid_gap": null,
      "max_width": null,
      "order": null,
      "_view_module_version": "1.2.0",
      "grid_template_areas": null,
      "object_position": null,
      "object_fit": null,
      "grid_auto_columns": null,
      "margin": null,
      "display": null,
      "left": null
     }
    },
    "6a8b027b94e748bfac44457b6edfe699": {
     "model_module": "@jupyter-widgets/controls",
     "model_name": "DescriptionStyleModel",
     "model_module_version": "1.5.0",
     "state": {
      "_view_name": "StyleView",
      "_model_name": "DescriptionStyleModel",
      "description_width": "",
      "_view_module": "@jupyter-widgets/base",
      "_model_module_version": "1.5.0",
      "_view_count": null,
      "_view_module_version": "1.2.0",
      "_model_module": "@jupyter-widgets/controls"
     }
    },
    "df275daa0dda4b4a9f92a9abca4e6241": {
     "model_module": "@jupyter-widgets/base",
     "model_name": "LayoutModel",
     "model_module_version": "1.2.0",
     "state": {
      "_view_name": "LayoutView",
      "grid_template_rows": null,
      "right": null,
      "justify_content": null,
      "_view_module": "@jupyter-widgets/base",
      "overflow": null,
      "_model_module_version": "1.2.0",
      "_view_count": null,
      "flex_flow": null,
      "width": null,
      "min_width": null,
      "border": null,
      "align_items": null,
      "bottom": null,
      "_model_module": "@jupyter-widgets/base",
      "top": null,
      "grid_column": null,
      "overflow_y": null,
      "overflow_x": null,
      "grid_auto_flow": null,
      "grid_area": null,
      "grid_template_columns": null,
      "flex": null,
      "_model_name": "LayoutModel",
      "justify_items": null,
      "grid_row": null,
      "max_height": null,
      "align_content": null,
      "visibility": null,
      "align_self": null,
      "height": null,
      "min_height": null,
      "padding": null,
      "grid_auto_rows": null,
      "grid_gap": null,
      "max_width": null,
      "order": null,
      "_view_module_version": "1.2.0",
      "grid_template_areas": null,
      "object_position": null,
      "object_fit": null,
      "grid_auto_columns": null,
      "margin": null,
      "display": null,
      "left": null
     }
    }
   }
  }
 },
 "nbformat_minor": 0,
 "nbformat": 4,
 "cells": [
  {
   "cell_type": "markdown",
   "source": [
    "# CIFAR-10 Classification using pytorch\n",
    "The notebook is devided into two part:\n",
    "* Section A where the model is trained with a simple CNN to achieve **75%+ accuracy**\n",
    "* Section B where the model is trained using ResNet9 and various other techniques like data augmentation, batch normalization, channel normalization, etc to achieve **93%+ accuracy**"
   ],
   "metadata": {
    "id": "74EqhTzxbBpC"
   }
  },
  {
   "cell_type": "markdown",
   "source": [
    "# Using a simple CNN model\n",
    "Bulding a simple CNN to achieve 75% + accuracy"
   ],
   "metadata": {
    "id": "Sxz18qxRTFOu"
   }
  },
  {
   "cell_type": "code",
   "source": [
    "# importing libraries\n",
    "import os\n",
    "\n",
    "import numpy as np\n",
    "import pandas as pd\n",
    "import matplotlib\n",
    "import matplotlib.pyplot as plt\n",
    "%matplotlib inline\n",
    "l=60\n",
    "q=1\n",
    "i=-1\n",
    "p=2\n",
    "z=10\n",
    "import torch\n",
    "import torchvision\n",
    "import tarfile\n",
    "from torchvision.datasets.utils import download_url\n",
    "from torch.utils.data import random_split\n",
    "\n",
    "# simply define a silu function\n",
    "# Import basic libraries\n",
    "import numpy as np # linear algebra\n",
    "import pandas as pd # data processing, CSV file I/O (e.g. pd.read_csv)\n",
    "from collections import OrderedDict\n",
    "\n",
    "# Import PyTorch\n",
    "import torch # import main library\n",
    "from torch.autograd import Variable\n",
    "import torch.nn as nn # import modules\n",
    "from torch.autograd import Function # import Function to create custom activations\n",
    "from torch.nn.parameter import Parameter # import Parameter to create custom activations with learnable parameters\n",
    "from torch import optim # import optimizers for demonstrations\n",
    "import torch.nn.functional as F # import torch functions\n",
    "from torchvision import datasets, transforms # import transformations to use for demo\n",
    "\n",
    "def dynamic(input):\n",
    "    '''\n",
    "    Applies the Sigmoid Linear Unit (SiLU) function element-wise:\n",
    "        SiLU(x) = x * sigmoid(x)\n",
    "    '''\n",
    "    #b = input.detach().numpy()\n",
    "    x=input\n",
    "    x[x<0]=0\n",
    "    #x=x+(l/q*(x+i)**p+z)-(l/q*(x-i)**p+z)\n",
    "    #x=x+60/(torch.abs(x-1)+10)+60/(torch.abs(x+1)+10)\n",
    "    x=x*2\n",
    "\n",
    "    return x\n",
    "    #return  1/(torch.exp(-1*input,out=None)+1)# use torch.sigmoid to make sure that we created the most efficient implemetation based on builtin PyTorch functions\n",
    "\n",
    "# create a class wrapper from PyTorch nn.Module, so\n",
    "# the function now can be easily used in models\n",
    "class Dynamic(nn.Module):\n",
    "    '''\n",
    "    Applies the Sigmoid Linear Unit (SiLU) function element-wise:\n",
    "        SiLU(x) = x * sigmoid(x)\n",
    "    Shape:\n",
    "        - Input: (N, *) where * means, any number of additional\n",
    "          dimensions\n",
    "        - Output: (N, *), same shape as the input\n",
    "    References:\n",
    "        -  Related paper:\n",
    "        https://arxiv.org/pdf/1606.08415.pdf\n",
    "    Examples:\n",
    "        >>> m = dynamic()\n",
    "        >>> input = torch.randn(2)\n",
    "        >>> output = m(input)\n",
    "    '''\n",
    "    def __init__(self):\n",
    "        '''\n",
    "        Init method.\n",
    "        '''\n",
    "        super().__init__() # init the base class\n",
    "\n",
    "    def forward(self, input):\n",
    "        '''\n",
    "        Forward pass of the function.\n",
    "        '''\n",
    "        return dynamic(input) # simply apply already implemented SiLU\n",
    "\n",
    "activation_function = Dynamic()"
   ],
   "metadata": {
    "id": "VuRk2WE8TBzL",
    "execution": {
     "iopub.status.busy": "2021-12-30T11:30:21.541516Z",
     "iopub.execute_input": "2021-12-30T11:30:21.542107Z",
     "iopub.status.idle": "2021-12-30T11:30:23.009958Z",
     "shell.execute_reply.started": "2021-12-30T11:30:21.542053Z",
     "shell.execute_reply": "2021-12-30T11:30:23.009235Z"
    },
    "trusted": true
   },
   "execution_count": null,
   "outputs": []
  },
  {
   "cell_type": "markdown",
   "source": [
    "We'll download the images in PNG format from [this page](https://course.fast.ai/datasets), using some helper functions from the `torchvision` and `tarfile` packages."
   ],
   "metadata": {
    "collapsed": false
   }
  },
  {
   "cell_type": "code",
   "source": [
    "#download dataset\n",
    "dataset_url = 'https://s3.amazonaws.com/fast-ai-imageclas/cifar10.tgz'\n",
    "download_url(dataset_url, '.')"
   ],
   "metadata": {
    "id": "TD-a91EvTuCU",
    "execution": {
     "iopub.status.busy": "2021-12-30T11:30:23.011750Z",
     "iopub.execute_input": "2021-12-30T11:30:23.012013Z",
     "iopub.status.idle": "2021-12-30T11:30:27.816653Z",
     "shell.execute_reply.started": "2021-12-30T11:30:23.011969Z",
     "shell.execute_reply": "2021-12-30T11:30:27.815835Z"
    },
    "trusted": true,
    "colab": {
     "base_uri": "https://localhost:8080/",
     "height": 67,
     "referenced_widgets": [
      "23afbc97763543f39a5c09b55877a0ab",
      "0a5a484e2dba4783bd0b76c10efe59e6",
      "4db8b26dcfa74ccdaee7f831589f1409",
      "6bde72afd49e413c9f14dc67964094aa",
      "580eb7c6ad154d338ed54cbf996a31d8",
      "8b14a0cd5b8544bab900c39f6e80a73b",
      "9a75850ab972412caeb4299207c5f6a1",
      "fdf7b40242c64cc69a9c142b015f4f66",
      "6f0618ae4c48409489b1e58a5593b46b",
      "6a8b027b94e748bfac44457b6edfe699",
      "df275daa0dda4b4a9f92a9abca4e6241"
     ]
    },
    "outputId": "dfe28cbb-4df6-4529-95d8-825bf37871ea"
   },
   "execution_count": null,
   "outputs": []
  },
  {
   "cell_type": "code",
   "source": [
    "# Extract from .tgz archive\n",
    "with tarfile.open('./cifar10.tgz', 'r:gz') as tar:\n",
    "  tar.extractall(path = './data')"
   ],
   "metadata": {
    "id": "TNjFDMXKU19a",
    "execution": {
     "iopub.status.busy": "2021-12-30T11:30:27.817903Z",
     "iopub.execute_input": "2021-12-30T11:30:27.818256Z",
     "iopub.status.idle": "2021-12-30T11:30:39.794761Z",
     "shell.execute_reply.started": "2021-12-30T11:30:27.818218Z",
     "shell.execute_reply": "2021-12-30T11:30:39.793982Z"
    },
    "trusted": true
   },
   "execution_count": null,
   "outputs": []
  },
  {
   "cell_type": "markdown",
   "source": [
    "dataset is extracted to `data/cifar10`. It contains two folders - `train` and `test` containing 50,000 and 10,000 images resp. Each of them contains 10 folders, one for each class of images."
   ],
   "metadata": {
    "id": "nf8PkQUdVOih"
   }
  },
  {
   "cell_type": "code",
   "source": [
    "data_dir = './data/cifar10'\n",
    "\n",
    "print(os.listdir(data_dir))\n",
    "classes = os.listdir(data_dir + '/train')\n",
    "print(classes)\n",
    "from torchvision.datasets import ImageFolder\n",
    "from torchvision.transforms import ToTensor\n",
    "# Loading the datset\n",
    "dataset = ImageFolder(data_dir + '/train', transform = ToTensor())\n"
   ],
   "metadata": {
    "id": "j2JhHaN9VNEP",
    "execution": {
     "iopub.status.busy": "2021-12-30T11:30:39.796731Z",
     "iopub.execute_input": "2021-12-30T11:30:39.796996Z",
     "iopub.status.idle": "2021-12-30T11:30:39.804056Z",
     "shell.execute_reply.started": "2021-12-30T11:30:39.796953Z",
     "shell.execute_reply": "2021-12-30T11:30:39.803217Z"
    },
    "trusted": true,
    "colab": {
     "base_uri": "https://localhost:8080/"
    },
    "outputId": "221d2b11-97a4-4c26-abde-72cc34fb7913"
   },
   "execution_count": null,
   "outputs": []
  },
  {
   "cell_type": "code",
   "source": [
    "img, label = dataset[0]\n",
    "print(img.shape, label)\n",
    "\n",
    "img"
   ],
   "metadata": {
    "id": "tuCBeryBY34x",
    "execution": {
     "iopub.status.busy": "2021-12-30T11:30:40.084399Z",
     "iopub.execute_input": "2021-12-30T11:30:40.084640Z",
     "iopub.status.idle": "2021-12-30T11:30:40.236370Z",
     "shell.execute_reply.started": "2021-12-30T11:30:40.084607Z",
     "shell.execute_reply": "2021-12-30T11:30:40.235557Z"
    },
    "trusted": true,
    "colab": {
     "base_uri": "https://localhost:8080/"
    },
    "outputId": "954e736f-440b-4db9-ed4c-0df4888510a7"
   },
   "execution_count": null,
   "outputs": []
  },
  {
   "cell_type": "code",
   "source": [
    "print(dataset.classes)"
   ],
   "metadata": {
    "id": "CrbEWp7MY_42",
    "execution": {
     "iopub.status.busy": "2021-12-30T11:30:40.237736Z",
     "iopub.execute_input": "2021-12-30T11:30:40.238047Z",
     "iopub.status.idle": "2021-12-30T11:30:40.244317Z",
     "shell.execute_reply.started": "2021-12-30T11:30:40.238011Z",
     "shell.execute_reply": "2021-12-30T11:30:40.243404Z"
    },
    "trusted": true,
    "colab": {
     "base_uri": "https://localhost:8080/"
    },
    "outputId": "b79a52c7-a098-4ceb-97cc-9a473e69dbdf"
   },
   "execution_count": null,
   "outputs": []
  },
  {
   "cell_type": "code",
   "source": [
    "# Viewing an image\n",
    "\n",
    "def show_img(img, label):\n",
    "  print('Label: ', dataset.classes[label], '(' + str(label) + ')')\n",
    "  plt.imshow(img.permute(1, 2, 0)) # permute changes the position of dimentions"
   ],
   "metadata": {
    "id": "1r3Yno-wZGhO",
    "execution": {
     "iopub.status.busy": "2021-12-30T11:30:40.246170Z",
     "iopub.execute_input": "2021-12-30T11:30:40.246468Z",
     "iopub.status.idle": "2021-12-30T11:30:40.253376Z",
     "shell.execute_reply.started": "2021-12-30T11:30:40.246429Z",
     "shell.execute_reply": "2021-12-30T11:30:40.252321Z"
    },
    "trusted": true
   },
   "execution_count": null,
   "outputs": []
  },
  {
   "cell_type": "code",
   "source": [
    "show_img(*dataset[100])"
   ],
   "metadata": {
    "id": "_JtVzUh4Zk-i",
    "execution": {
     "iopub.status.busy": "2021-12-30T11:30:40.257986Z",
     "iopub.execute_input": "2021-12-30T11:30:40.258278Z",
     "iopub.status.idle": "2021-12-30T11:30:40.462427Z",
     "shell.execute_reply.started": "2021-12-30T11:30:40.258242Z",
     "shell.execute_reply": "2021-12-30T11:30:40.461743Z"
    },
    "trusted": true,
    "colab": {
     "base_uri": "https://localhost:8080/",
     "height": 283
    },
    "outputId": "f55f777e-1884-4121-d516-07f8df0793c2"
   },
   "execution_count": null,
   "outputs": []
  },
  {
   "cell_type": "markdown",
   "source": [
    "### Training and val datasets"
   ],
   "metadata": {
    "id": "qkOZidRaZ1RC"
   }
  },
  {
   "cell_type": "code",
   "source": [
    "random_seed = 10\n",
    "torch.manual_seed(random_seed)"
   ],
   "metadata": {
    "id": "S--2jl9EZnkD",
    "execution": {
     "iopub.status.busy": "2021-12-30T11:30:40.463727Z",
     "iopub.execute_input": "2021-12-30T11:30:40.463967Z",
     "iopub.status.idle": "2021-12-30T11:30:40.471513Z",
     "shell.execute_reply.started": "2021-12-30T11:30:40.463934Z",
     "shell.execute_reply": "2021-12-30T11:30:40.470745Z"
    },
    "trusted": true,
    "colab": {
     "base_uri": "https://localhost:8080/"
    },
    "outputId": "fe1ec3e5-54fd-47ae-bcc9-4c8c55486650"
   },
   "execution_count": null,
   "outputs": []
  },
  {
   "cell_type": "code",
   "source": [
    "val_size = 5000\n",
    "train_size = len(dataset) - val_size\n",
    "\n",
    "#splitting the ds\n",
    "train_ds, val_ds = random_split(dataset, [train_size, val_size])\n",
    "\n",
    "print(len(train_ds), len(val_ds))"
   ],
   "metadata": {
    "id": "wWxtDT-7Z-vJ",
    "execution": {
     "iopub.status.busy": "2021-12-30T11:30:40.473173Z",
     "iopub.execute_input": "2021-12-30T11:30:40.473517Z",
     "iopub.status.idle": "2021-12-30T11:30:40.486642Z",
     "shell.execute_reply.started": "2021-12-30T11:30:40.473483Z",
     "shell.execute_reply": "2021-12-30T11:30:40.485952Z"
    },
    "trusted": true,
    "colab": {
     "base_uri": "https://localhost:8080/"
    },
    "outputId": "51e967d5-69a2-4ba8-c7c2-060183ac36b3"
   },
   "execution_count": null,
   "outputs": []
  },
  {
   "cell_type": "code",
   "source": [
    "from torch.utils.data.dataloader import DataLoader\n",
    "\n",
    "batch_size = 128 #hyper parameter"
   ],
   "metadata": {
    "id": "avzlTlXIaYSe",
    "execution": {
     "iopub.status.busy": "2021-12-30T11:30:40.487827Z",
     "iopub.execute_input": "2021-12-30T11:30:40.488220Z",
     "iopub.status.idle": "2021-12-30T11:30:40.491786Z",
     "shell.execute_reply.started": "2021-12-30T11:30:40.488186Z",
     "shell.execute_reply": "2021-12-30T11:30:40.491135Z"
    },
    "trusted": true
   },
   "execution_count": null,
   "outputs": []
  },
  {
   "cell_type": "code",
   "source": [
    "#Loading Data\n",
    "train_running_size=128\n",
    "val_running_Size=256\n",
    "train_ds, empty=random_split(train_ds, [train_running_size, len(train_ds)-train_running_size])\n",
    "val_ds, empty=random_split(val_ds,[val_running_Size,len(val_ds)-val_running_Size])\n",
    "train_dl = DataLoader(train_ds, batch_size, shuffle = True, num_workers = 2, pin_memory = True)\n",
    "val_dl = DataLoader(val_ds, batch_size*2, num_workers = 2, pin_memory = True)"
   ],
   "metadata": {
    "id": "wxnMusrXam2U",
    "execution": {
     "iopub.status.busy": "2021-12-30T11:30:40.493050Z",
     "iopub.execute_input": "2021-12-30T11:30:40.493440Z",
     "iopub.status.idle": "2021-12-30T11:30:40.499925Z",
     "shell.execute_reply.started": "2021-12-30T11:30:40.493405Z",
     "shell.execute_reply": "2021-12-30T11:30:40.499260Z"
    },
    "trusted": true
   },
   "execution_count": null,
   "outputs": []
  },
  {
   "cell_type": "code",
   "source": [
    "from torchvision.utils import make_grid\n",
    "\n",
    "def show_batch(dl):\n",
    "  for images, labels in dl:\n",
    "    fig, ax = plt.subplots(figsize = (12, 6))\n",
    "    ax.set_xticks([]); ax.set_yticks([])\n",
    "    ax.imshow(make_grid(images, nrow = 16).permute(1,2,0))\n",
    "    break"
   ],
   "metadata": {
    "id": "D0Hnm-8kbA6M",
    "execution": {
     "iopub.status.busy": "2021-12-30T11:30:40.501143Z",
     "iopub.execute_input": "2021-12-30T11:30:40.501549Z",
     "iopub.status.idle": "2021-12-30T11:30:40.507990Z",
     "shell.execute_reply.started": "2021-12-30T11:30:40.501515Z",
     "shell.execute_reply": "2021-12-30T11:30:40.507284Z"
    },
    "trusted": true
   },
   "execution_count": null,
   "outputs": []
  },
  {
   "cell_type": "code",
   "source": [
    "show_batch(train_dl)"
   ],
   "metadata": {
    "id": "YafrUG31bd2u",
    "execution": {
     "iopub.status.busy": "2021-12-30T11:30:40.508938Z",
     "iopub.execute_input": "2021-12-30T11:30:40.510648Z",
     "iopub.status.idle": "2021-12-30T11:30:43.809480Z",
     "shell.execute_reply.started": "2021-12-30T11:30:40.510620Z",
     "shell.execute_reply": "2021-12-30T11:30:43.807167Z"
    },
    "trusted": true,
    "colab": {
     "base_uri": "https://localhost:8080/",
     "height": 361
    },
    "outputId": "de007f1a-3666-4eaa-8ed5-9c6b328d8a59"
   },
   "execution_count": null,
   "outputs": []
  },
  {
   "cell_type": "markdown",
   "source": [
    "### Model\n",
    "We'll define a CNN (Convolutional Neural Networ)"
   ],
   "metadata": {
    "id": "2JaIVgmmblZL"
   }
  },
  {
   "cell_type": "code",
   "source": [
    "# importing libraries\n",
    "import torch.nn as nn\n",
    "import torch.nn.functional as F"
   ],
   "metadata": {
    "id": "Ld_YsPFZex7q",
    "execution": {
     "iopub.status.busy": "2021-12-30T11:30:43.836424Z",
     "iopub.execute_input": "2021-12-30T11:30:43.836690Z",
     "iopub.status.idle": "2021-12-30T11:30:43.840611Z",
     "shell.execute_reply.started": "2021-12-30T11:30:43.836654Z",
     "shell.execute_reply": "2021-12-30T11:30:43.839838Z"
    },
    "trusted": true
   },
   "execution_count": null,
   "outputs": []
  },
  {
   "cell_type": "markdown",
   "source": [
    "Extending nn.Module"
   ],
   "metadata": {
    "id": "O1i78ODmZFLI"
   }
  },
  {
   "cell_type": "code",
   "source": [
    "class ImageClassificationBase(nn.Module):\n",
    "    def training_step(self, batch):\n",
    "        images, labels = batch \n",
    "        out = self(images)                  # Generate predictions\n",
    "        loss = F.cross_entropy(out, labels) # Calculate loss\n",
    "        return loss\n",
    "    \n",
    "    def validation_step(self, batch):\n",
    "        images, labels = batch \n",
    "        out = self(images)                    # Generate predictions\n",
    "        loss = F.cross_entropy(out, labels)   # Calculate loss\n",
    "        acc = accuracy(out, labels)           # Calculate accuracy\n",
    "        return {'val_loss': loss.detach(), 'val_acc': acc}\n",
    "        \n",
    "    def validation_epoch_end(self, outputs):\n",
    "        batch_losses = [x['val_loss'] for x in outputs]\n",
    "        epoch_loss = torch.stack(batch_losses).mean()   # Combine losses\n",
    "        batch_accs = [x['val_acc'] for x in outputs]\n",
    "        epoch_acc = torch.stack(batch_accs).mean()      # Combine accuracies\n",
    "        return {'val_loss': epoch_loss.item(), 'val_acc': epoch_acc.item()}\n",
    "    \n",
    "    def epoch_end(self, epoch, result):\n",
    "        print(\"Epoch [{}], train_loss: {:.4f}, val_loss: {:.4f}, val_acc: {:.4f}\".format(\n",
    "            epoch, result['train_loss'], result['val_loss'], result['val_acc']))\n",
    "        \n",
    "def accuracy(outputs, labels):\n",
    "    _, preds = torch.max(outputs, dim=1)\n",
    "    return torch.tensor(torch.sum(preds == labels).item() / len(preds))"
   ],
   "metadata": {
    "id": "vfbooa_2UAzm",
    "execution": {
     "iopub.status.busy": "2021-12-30T11:30:44.262596Z",
     "iopub.execute_input": "2021-12-30T11:30:44.262859Z",
     "iopub.status.idle": "2021-12-30T11:30:44.276910Z",
     "shell.execute_reply.started": "2021-12-30T11:30:44.262821Z",
     "shell.execute_reply": "2021-12-30T11:30:44.276221Z"
    },
    "trusted": true
   },
   "execution_count": null,
   "outputs": []
  },
  {
   "cell_type": "markdown",
   "source": [
    "Building the architecture of our CNN model"
   ],
   "metadata": {
    "id": "wEMW12EIZKZ4"
   }
  },
  {
   "cell_type": "code",
   "source": [
    "class Cifar10CnnModel(ImageClassificationBase):\n",
    "    def __init__(self):\n",
    "        super().__init__()\n",
    "        self.network = nn.Sequential(\n",
    "            nn.Conv2d(3, 32, kernel_size=3, padding=1),\n",
    "            activation_function,\n",
    "            nn.Conv2d(32, 64, kernel_size=3, stride=1, padding=1),\n",
    "            activation_function,\n",
    "            nn.MaxPool2d(2, 2), # output: 64 x 16 x 16\n",
    "\n",
    "            nn.Conv2d(64, 128, kernel_size=3, stride=1, padding=1),\n",
    "            activation_function,\n",
    "            nn.Conv2d(128, 128, kernel_size=3, stride=1, padding=1),\n",
    "            activation_function,\n",
    "            nn.MaxPool2d(2, 2), # output: 128 x 8 x 8\n",
    "\n",
    "            nn.Conv2d(128, 256, kernel_size=3, stride=1, padding=1),\n",
    "            activation_function,\n",
    "            nn.Conv2d(256, 256, kernel_size=3, stride=1, padding=1),\n",
    "            activation_function,\n",
    "            nn.MaxPool2d(2, 2), # output: 256 x 4 x 4\n",
    "\n",
    "            nn.Flatten(),\n",
    "            nn.Linear(256*4*4, 1024),\n",
    "            activation_function,\n",
    "            nn.Linear(1024, 512),\n",
    "            activation_function,\n",
    "            nn.Linear(512, 10))\n",
    "        \n",
    "    def forward(self, xb):\n",
    "        return self.network(xb)"
   ],
   "metadata": {
    "id": "Y8nYB1eRUyUQ",
    "execution": {
     "iopub.status.busy": "2021-12-30T11:30:44.278861Z",
     "iopub.execute_input": "2021-12-30T11:30:44.279405Z",
     "iopub.status.idle": "2021-12-30T11:30:44.294281Z",
     "shell.execute_reply.started": "2021-12-30T11:30:44.279368Z",
     "shell.execute_reply": "2021-12-30T11:30:44.293271Z"
    },
    "trusted": true
   },
   "execution_count": null,
   "outputs": []
  },
  {
   "cell_type": "code",
   "source": [
    "model = Cifar10CnnModel()\n",
    "model"
   ],
   "metadata": {
    "id": "XlP1WfQu8639",
    "execution": {
     "iopub.status.busy": "2021-12-30T11:30:44.296683Z",
     "iopub.execute_input": "2021-12-30T11:30:44.297293Z",
     "iopub.status.idle": "2021-12-30T11:30:44.396114Z",
     "shell.execute_reply.started": "2021-12-30T11:30:44.297257Z",
     "shell.execute_reply": "2021-12-30T11:30:44.395453Z"
    },
    "trusted": true,
    "colab": {
     "base_uri": "https://localhost:8080/"
    },
    "outputId": "4601bd71-850e-4af0-c220-fa7534205adb"
   },
   "execution_count": null,
   "outputs": []
  },
  {
   "cell_type": "code",
   "source": [
    "for images, labels in train_dl:\n",
    "  print('images.shape: ', images.shape)\n",
    "  out = model(images)\n",
    "  print('out.shape: ', out.shape)\n",
    "  print('out[0:]: ', out[0])\n",
    "  break"
   ],
   "metadata": {
    "id": "6_InRRLm9FYO",
    "execution": {
     "iopub.status.busy": "2021-12-30T11:30:44.399797Z",
     "iopub.execute_input": "2021-12-30T11:30:44.401625Z",
     "iopub.status.idle": "2021-12-30T11:30:45.544944Z",
     "shell.execute_reply.started": "2021-12-30T11:30:44.401588Z",
     "shell.execute_reply": "2021-12-30T11:30:45.544037Z"
    },
    "trusted": true,
    "colab": {
     "base_uri": "https://localhost:8080/"
    },
    "outputId": "2c0d0fc7-e1e3-4778-fff5-735001783d91"
   },
   "execution_count": null,
   "outputs": []
  },
  {
   "cell_type": "markdown",
   "source": [
    "### GPU"
   ],
   "metadata": {
    "id": "Cu7JAzBEZQcm"
   }
  },
  {
   "cell_type": "code",
   "source": [
    "def get_default_device():\n",
    "    \"\"\"Pick GPU if available, else CPU\"\"\"\n",
    "    if torch.cuda.is_available():\n",
    "        return torch.device('cuda')\n",
    "    else:\n",
    "        return torch.device('cpu')\n",
    "    \n",
    "def to_device(data, device):\n",
    "    \"\"\"Move tensor(s) to chosen device\"\"\"\n",
    "    if isinstance(data, (list,tuple)):\n",
    "        return [to_device(x, device) for x in data]\n",
    "    return data.to(device, non_blocking=True)\n",
    "\n",
    "class DeviceDataLoader():\n",
    "    \"\"\"Wrap a dataloader to move data to a device\"\"\"\n",
    "    def __init__(self, dl, device):\n",
    "        self.dl = dl\n",
    "        self.device = device\n",
    "        \n",
    "    def __iter__(self):\n",
    "        \"\"\"Yield a batch of data after moving it to device\"\"\"\n",
    "        for b in self.dl: \n",
    "            yield to_device(b, self.device)\n",
    "\n",
    "    def __len__(self):\n",
    "        \"\"\"Number of batches\"\"\"\n",
    "        return len(self.dl)"
   ],
   "metadata": {
    "id": "eAQ_RfBAGE4V",
    "execution": {
     "iopub.status.busy": "2021-12-30T11:30:45.548204Z",
     "iopub.execute_input": "2021-12-30T11:30:45.548425Z",
     "iopub.status.idle": "2021-12-30T11:30:45.558831Z",
     "shell.execute_reply.started": "2021-12-30T11:30:45.548399Z",
     "shell.execute_reply": "2021-12-30T11:30:45.558151Z"
    },
    "trusted": true
   },
   "execution_count": null,
   "outputs": []
  },
  {
   "cell_type": "code",
   "source": [
    "device = get_default_device()\n",
    "device"
   ],
   "metadata": {
    "id": "JDY_KSR1GHfA",
    "execution": {
     "iopub.status.busy": "2021-12-30T11:30:45.560220Z",
     "iopub.execute_input": "2021-12-30T11:30:45.560486Z",
     "iopub.status.idle": "2021-12-30T11:30:45.572769Z",
     "shell.execute_reply.started": "2021-12-30T11:30:45.560440Z",
     "shell.execute_reply": "2021-12-30T11:30:45.571978Z"
    },
    "trusted": true,
    "colab": {
     "base_uri": "https://localhost:8080/"
    },
    "outputId": "794e74a4-88df-466e-982a-337c8b819193"
   },
   "execution_count": null,
   "outputs": []
  },
  {
   "cell_type": "code",
   "source": [
    "train_dl = DeviceDataLoader(train_dl, device)\n",
    "val_dl = DeviceDataLoader(val_dl, device)\n",
    "to_device(model, device);"
   ],
   "metadata": {
    "id": "Lun8kMSiGJIE",
    "execution": {
     "iopub.status.busy": "2021-12-30T11:30:45.579551Z",
     "iopub.execute_input": "2021-12-30T11:30:45.579731Z",
     "iopub.status.idle": "2021-12-30T11:30:45.595667Z",
     "shell.execute_reply.started": "2021-12-30T11:30:45.579709Z",
     "shell.execute_reply": "2021-12-30T11:30:45.595032Z"
    },
    "trusted": true
   },
   "execution_count": null,
   "outputs": []
  },
  {
   "cell_type": "markdown",
   "source": [
    "### Training the Model"
   ],
   "metadata": {
    "id": "j246sbrpZS7N"
   }
  },
  {
   "cell_type": "markdown",
   "source": [
    "Defining two models - evaluate and fit"
   ],
   "metadata": {
    "id": "O5GJgmK5ZWKw"
   }
  },
  {
   "cell_type": "code",
   "source": [
    "@torch.no_grad()\n",
    "def evaluate(model, val_loader):\n",
    "    model.eval()\n",
    "    outputs = [model.validation_step(batch) for batch in val_loader]\n",
    "    return model.validation_epoch_end(outputs)\n",
    "\n",
    "def fit(epochs, lr, model, train_loader, val_loader, opt_func=torch.optim.SGD):\n",
    "    history = []\n",
    "    optimizer = opt_func(model.parameters(), lr)\n",
    "    for epoch in range(epochs):\n",
    "        # Training Phase \n",
    "        model.train()\n",
    "        train_losses = []\n",
    "        for batch in train_loader:\n",
    "            loss = model.training_step(batch)\n",
    "            train_losses.append(loss)\n",
    "            loss.backward()\n",
    "            optimizer.step()\n",
    "            optimizer.zero_grad()\n",
    "        # Validation phase\n",
    "        result = evaluate(model, val_loader)\n",
    "        result['train_loss'] = torch.stack(train_losses).mean().item()\n",
    "        model.epoch_end(epoch, result)\n",
    "        history.append(result)\n",
    "    return history"
   ],
   "metadata": {
    "id": "eeF73WBV9YoO",
    "execution": {
     "iopub.status.busy": "2021-12-30T11:30:45.596798Z",
     "iopub.execute_input": "2021-12-30T11:30:45.597116Z",
     "iopub.status.idle": "2021-12-30T11:30:45.605971Z",
     "shell.execute_reply.started": "2021-12-30T11:30:45.597067Z",
     "shell.execute_reply": "2021-12-30T11:30:45.605123Z"
    },
    "trusted": true
   },
   "execution_count": null,
   "outputs": []
  },
  {
   "cell_type": "code",
   "source": [
    "evaluate(model, val_dl)"
   ],
   "metadata": {
    "id": "YeApgNna_Pek",
    "execution": {
     "iopub.status.busy": "2021-12-30T11:30:45.607753Z",
     "iopub.execute_input": "2021-12-30T11:30:45.608016Z",
     "iopub.status.idle": "2021-12-30T11:30:52.298053Z",
     "shell.execute_reply.started": "2021-12-30T11:30:45.607973Z",
     "shell.execute_reply": "2021-12-30T11:30:52.297339Z"
    },
    "trusted": true,
    "colab": {
     "base_uri": "https://localhost:8080/"
    },
    "outputId": "10e5951b-451d-4efb-b39a-140053d717fa"
   },
   "execution_count": null,
   "outputs": []
  },
  {
   "cell_type": "markdown",
   "source": [
    "As expected the accuracy is cloase to 10 %"
   ],
   "metadata": {
    "id": "8n07I8QaZaAb"
   }
  },
  {
   "cell_type": "code",
   "source": [
    "# Hyperparameters\n",
    "num_epochs = 10\n",
    "opt_func = torch.optim.Adam\n",
    "lr = 0.001"
   ],
   "metadata": {
    "id": "P9EkWwrL_SzT",
    "execution": {
     "iopub.status.busy": "2021-12-30T11:30:52.299866Z",
     "iopub.execute_input": "2021-12-30T11:30:52.300154Z",
     "iopub.status.idle": "2021-12-30T11:30:52.305711Z",
     "shell.execute_reply.started": "2021-12-30T11:30:52.300115Z",
     "shell.execute_reply": "2021-12-30T11:30:52.304676Z"
    },
    "trusted": true
   },
   "execution_count": null,
   "outputs": []
  },
  {
   "cell_type": "code",
   "source": [
    "history = fit(num_epochs, lr, model, train_dl, val_dl, opt_func)"
   ],
   "metadata": {
    "id": "Nnx0qjNHBhUR",
    "execution": {
     "iopub.status.busy": "2021-12-30T11:30:52.307564Z",
     "iopub.execute_input": "2021-12-30T11:30:52.307854Z",
     "iopub.status.idle": "2021-12-30T11:33:21.084749Z",
     "shell.execute_reply.started": "2021-12-30T11:30:52.307815Z",
     "shell.execute_reply": "2021-12-30T11:33:21.083929Z"
    },
    "trusted": true,
    "colab": {
     "base_uri": "https://localhost:8080/"
    },
    "outputId": "4da58ced-9ad5-413a-b3bb-00fef23e8ad4"
   },
   "execution_count": null,
   "outputs": [
    {
     "name": "stdout",
     "output_type": "stream",
     "text": [
      "Epoch [1], train_loss: 2.2443, val_loss: 2.1882, val_acc: 0.1855\n"
     ]
    },
    {
     "ename": "KeyboardInterrupt",
     "evalue": "",
     "output_type": "error",
     "traceback": [
      "\u001B[1;31m---------------------------------------------------------------------------\u001B[0m",
      "\u001B[1;31mKeyboardInterrupt\u001B[0m                         Traceback (most recent call last)",
      "\u001B[1;32m~\\AppData\\Local\\Temp/ipykernel_22368/1847263727.py\u001B[0m in \u001B[0;36m<module>\u001B[1;34m\u001B[0m\n\u001B[1;32m----> 1\u001B[1;33m \u001B[0mhistory\u001B[0m \u001B[1;33m=\u001B[0m \u001B[0mfit\u001B[0m\u001B[1;33m(\u001B[0m\u001B[0mnum_epochs\u001B[0m\u001B[1;33m,\u001B[0m \u001B[0mlr\u001B[0m\u001B[1;33m,\u001B[0m \u001B[0mmodel\u001B[0m\u001B[1;33m,\u001B[0m \u001B[0mtrain_dl\u001B[0m\u001B[1;33m,\u001B[0m \u001B[0mval_dl\u001B[0m\u001B[1;33m,\u001B[0m \u001B[0mopt_func\u001B[0m\u001B[1;33m)\u001B[0m\u001B[1;33m\u001B[0m\u001B[1;33m\u001B[0m\u001B[0m\n\u001B[0m",
      "\u001B[1;32m~\\AppData\\Local\\Temp/ipykernel_22368/2807620833.py\u001B[0m in \u001B[0;36mfit\u001B[1;34m(epochs, lr, model, train_loader, val_loader, opt_func)\u001B[0m\n\u001B[0;32m     15\u001B[0m             \u001B[0mloss\u001B[0m \u001B[1;33m=\u001B[0m \u001B[0mmodel\u001B[0m\u001B[1;33m.\u001B[0m\u001B[0mtraining_step\u001B[0m\u001B[1;33m(\u001B[0m\u001B[0mbatch\u001B[0m\u001B[1;33m)\u001B[0m\u001B[1;33m\u001B[0m\u001B[1;33m\u001B[0m\u001B[0m\n\u001B[0;32m     16\u001B[0m             \u001B[0mtrain_losses\u001B[0m\u001B[1;33m.\u001B[0m\u001B[0mappend\u001B[0m\u001B[1;33m(\u001B[0m\u001B[0mloss\u001B[0m\u001B[1;33m)\u001B[0m\u001B[1;33m\u001B[0m\u001B[1;33m\u001B[0m\u001B[0m\n\u001B[1;32m---> 17\u001B[1;33m             \u001B[0mloss\u001B[0m\u001B[1;33m.\u001B[0m\u001B[0mbackward\u001B[0m\u001B[1;33m(\u001B[0m\u001B[1;33m)\u001B[0m\u001B[1;33m\u001B[0m\u001B[1;33m\u001B[0m\u001B[0m\n\u001B[0m\u001B[0;32m     18\u001B[0m             \u001B[0moptimizer\u001B[0m\u001B[1;33m.\u001B[0m\u001B[0mstep\u001B[0m\u001B[1;33m(\u001B[0m\u001B[1;33m)\u001B[0m\u001B[1;33m\u001B[0m\u001B[1;33m\u001B[0m\u001B[0m\n\u001B[0;32m     19\u001B[0m             \u001B[0moptimizer\u001B[0m\u001B[1;33m.\u001B[0m\u001B[0mzero_grad\u001B[0m\u001B[1;33m(\u001B[0m\u001B[1;33m)\u001B[0m\u001B[1;33m\u001B[0m\u001B[1;33m\u001B[0m\u001B[0m\n",
      "\u001B[1;32m~\\.conda\\envs\\pydml\\lib\\site-packages\\torch\\tensor.py\u001B[0m in \u001B[0;36mbackward\u001B[1;34m(self, gradient, retain_graph, create_graph, inputs)\u001B[0m\n\u001B[0;32m    243\u001B[0m                 \u001B[0mcreate_graph\u001B[0m\u001B[1;33m=\u001B[0m\u001B[0mcreate_graph\u001B[0m\u001B[1;33m,\u001B[0m\u001B[1;33m\u001B[0m\u001B[1;33m\u001B[0m\u001B[0m\n\u001B[0;32m    244\u001B[0m                 inputs=inputs)\n\u001B[1;32m--> 245\u001B[1;33m         \u001B[0mtorch\u001B[0m\u001B[1;33m.\u001B[0m\u001B[0mautograd\u001B[0m\u001B[1;33m.\u001B[0m\u001B[0mbackward\u001B[0m\u001B[1;33m(\u001B[0m\u001B[0mself\u001B[0m\u001B[1;33m,\u001B[0m \u001B[0mgradient\u001B[0m\u001B[1;33m,\u001B[0m \u001B[0mretain_graph\u001B[0m\u001B[1;33m,\u001B[0m \u001B[0mcreate_graph\u001B[0m\u001B[1;33m,\u001B[0m \u001B[0minputs\u001B[0m\u001B[1;33m=\u001B[0m\u001B[0minputs\u001B[0m\u001B[1;33m)\u001B[0m\u001B[1;33m\u001B[0m\u001B[1;33m\u001B[0m\u001B[0m\n\u001B[0m\u001B[0;32m    246\u001B[0m \u001B[1;33m\u001B[0m\u001B[0m\n\u001B[0;32m    247\u001B[0m     \u001B[1;32mdef\u001B[0m \u001B[0mregister_hook\u001B[0m\u001B[1;33m(\u001B[0m\u001B[0mself\u001B[0m\u001B[1;33m,\u001B[0m \u001B[0mhook\u001B[0m\u001B[1;33m)\u001B[0m\u001B[1;33m:\u001B[0m\u001B[1;33m\u001B[0m\u001B[1;33m\u001B[0m\u001B[0m\n",
      "\u001B[1;32m~\\.conda\\envs\\pydml\\lib\\site-packages\\torch\\autograd\\__init__.py\u001B[0m in \u001B[0;36mbackward\u001B[1;34m(tensors, grad_tensors, retain_graph, create_graph, grad_variables, inputs)\u001B[0m\n\u001B[0;32m    143\u001B[0m         \u001B[0mretain_graph\u001B[0m \u001B[1;33m=\u001B[0m \u001B[0mcreate_graph\u001B[0m\u001B[1;33m\u001B[0m\u001B[1;33m\u001B[0m\u001B[0m\n\u001B[0;32m    144\u001B[0m \u001B[1;33m\u001B[0m\u001B[0m\n\u001B[1;32m--> 145\u001B[1;33m     Variable._execution_engine.run_backward(\n\u001B[0m\u001B[0;32m    146\u001B[0m         \u001B[0mtensors\u001B[0m\u001B[1;33m,\u001B[0m \u001B[0mgrad_tensors_\u001B[0m\u001B[1;33m,\u001B[0m \u001B[0mretain_graph\u001B[0m\u001B[1;33m,\u001B[0m \u001B[0mcreate_graph\u001B[0m\u001B[1;33m,\u001B[0m \u001B[0minputs\u001B[0m\u001B[1;33m,\u001B[0m\u001B[1;33m\u001B[0m\u001B[1;33m\u001B[0m\u001B[0m\n\u001B[0;32m    147\u001B[0m         allow_unreachable=True, accumulate_grad=True)  # allow_unreachable flag\n",
      "\u001B[1;31mKeyboardInterrupt\u001B[0m: "
     ]
    }
   ]
  },
  {
   "cell_type": "code",
   "source": [
    "def plot_accuracies(history):\n",
    "  accuracies = [x['val_acc'] for x in history]\n",
    "  plt.plot(accuracies, '-x')\n",
    "  plt.xlabel('epoch')\n",
    "  plt.ylabel('accuracy')\n",
    "  plt.title('Accuracy vs. No. of epochs')"
   ],
   "metadata": {
    "id": "bi67sJ57Bjzo",
    "execution": {
     "iopub.status.busy": "2021-12-30T11:33:21.089523Z",
     "iopub.execute_input": "2021-12-30T11:33:21.089744Z",
     "iopub.status.idle": "2021-12-30T11:33:21.096736Z",
     "shell.execute_reply.started": "2021-12-30T11:33:21.089717Z",
     "shell.execute_reply": "2021-12-30T11:33:21.096035Z"
    },
    "trusted": true
   },
   "execution_count": null,
   "outputs": []
  },
  {
   "cell_type": "code",
   "source": [
    "plot_accuracies(history)"
   ],
   "metadata": {
    "id": "6ghfz1iYCVaP",
    "execution": {
     "iopub.status.busy": "2021-12-30T11:33:21.098151Z",
     "iopub.execute_input": "2021-12-30T11:33:21.098399Z",
     "iopub.status.idle": "2021-12-30T11:33:21.295579Z",
     "shell.execute_reply.started": "2021-12-30T11:33:21.098362Z",
     "shell.execute_reply": "2021-12-30T11:33:21.294894Z"
    },
    "trusted": true,
    "colab": {
     "base_uri": "https://localhost:8080/",
     "height": 295
    },
    "outputId": "e130c721-549c-4e9d-a96d-cbc6fd505f58"
   },
   "execution_count": null,
   "outputs": []
  },
  {
   "cell_type": "code",
   "source": [
    "def plot_losses(history):\n",
    "  train_losses = [x.get('train_loss') for x in history]\n",
    "  val_losses = [x['val_loss'] for x in history]\n",
    "  plt.plot(train_losses, '-bx')\n",
    "  plt.plot(val_losses, '-rx')\n",
    "  plt.xlabel('epoch')\n",
    "  plt.ylabel('loss')\n",
    "  plt.legend(['Training', 'Validation'])\n",
    "  plt.title('Loss vs No. of epochs')"
   ],
   "metadata": {
    "id": "VHlYXQbvHQH2",
    "execution": {
     "iopub.status.busy": "2021-12-30T11:33:21.296807Z",
     "iopub.execute_input": "2021-12-30T11:33:21.299248Z",
     "iopub.status.idle": "2021-12-30T11:33:21.304467Z",
     "shell.execute_reply.started": "2021-12-30T11:33:21.299209Z",
     "shell.execute_reply": "2021-12-30T11:33:21.303557Z"
    },
    "trusted": true
   },
   "execution_count": null,
   "outputs": []
  },
  {
   "cell_type": "code",
   "source": [
    "plot_losses(history)"
   ],
   "metadata": {
    "id": "c3GMcKyCHzWe",
    "execution": {
     "iopub.status.busy": "2021-12-30T11:33:21.305667Z",
     "iopub.execute_input": "2021-12-30T11:33:21.305934Z",
     "iopub.status.idle": "2021-12-30T11:33:21.528479Z",
     "shell.execute_reply.started": "2021-12-30T11:33:21.305897Z",
     "shell.execute_reply": "2021-12-30T11:33:21.527733Z"
    },
    "trusted": true,
    "colab": {
     "base_uri": "https://localhost:8080/",
     "height": 295
    },
    "outputId": "c32fcf01-8295-4464-cec9-f6c3042f030c"
   },
   "execution_count": null,
   "outputs": []
  },
  {
   "cell_type": "markdown",
   "source": [
    "There seems to be some overfitting, which we shall try to minimize in the next section"
   ],
   "metadata": {
    "id": "bmtY7Q4tI0J8"
   }
  },
  {
   "cell_type": "markdown",
   "source": [
    "### Testing"
   ],
   "metadata": {
    "id": "ngKhpwz8H8Me"
   }
  },
  {
   "cell_type": "code",
   "source": [
    "test_dataset = ImageFolder(data_dir + '/test', transform = ToTensor())"
   ],
   "metadata": {
    "id": "HijqSgBnH1c-",
    "execution": {
     "iopub.status.busy": "2021-12-30T11:33:21.529830Z",
     "iopub.execute_input": "2021-12-30T11:33:21.530285Z",
     "iopub.status.idle": "2021-12-30T11:33:21.592407Z",
     "shell.execute_reply.started": "2021-12-30T11:33:21.530246Z",
     "shell.execute_reply": "2021-12-30T11:33:21.591657Z"
    },
    "trusted": true
   },
   "execution_count": null,
   "outputs": []
  },
  {
   "cell_type": "code",
   "source": [
    "def predict_image(imag, model):\n",
    "  #convert to a batch of 1\n",
    "  xb = to_device(img.unsqueeze(0), device)\n",
    "\n",
    "  #get preds from model\n",
    "  yb = model(xb)\n",
    "\n",
    "  #pick index with highest probability\n",
    "  _, preds = torch.max(yb, dim = 1)\n",
    "\n",
    "  #Retrive the class label\n",
    "  return dataset.classes[preds[0].item()]"
   ],
   "metadata": {
    "id": "YtP7b2NjIFR2",
    "execution": {
     "iopub.status.busy": "2021-12-30T11:33:21.593727Z",
     "iopub.execute_input": "2021-12-30T11:33:21.593980Z",
     "iopub.status.idle": "2021-12-30T11:33:21.599319Z",
     "shell.execute_reply.started": "2021-12-30T11:33:21.593947Z",
     "shell.execute_reply": "2021-12-30T11:33:21.598587Z"
    },
    "trusted": true
   },
   "execution_count": null,
   "outputs": []
  },
  {
   "cell_type": "code",
   "source": [
    "img, label = test_dataset[0]\n",
    "plt.imshow(img.permute(1,2,0))\n",
    "print('Label: ', dataset.classes[label], ', Predicted: ', predict_image(img, model))\n"
   ],
   "metadata": {
    "id": "j2MZamVSIacB",
    "execution": {
     "iopub.status.busy": "2021-12-30T11:33:21.600787Z",
     "iopub.execute_input": "2021-12-30T11:33:21.601333Z",
     "iopub.status.idle": "2021-12-30T11:33:21.805599Z",
     "shell.execute_reply.started": "2021-12-30T11:33:21.601291Z",
     "shell.execute_reply": "2021-12-30T11:33:21.804918Z"
    },
    "trusted": true,
    "colab": {
     "base_uri": "https://localhost:8080/",
     "height": 283
    },
    "outputId": "43e8484a-4fca-4d04-da17-18cc9bde8eec"
   },
   "execution_count": null,
   "outputs": []
  },
  {
   "cell_type": "code",
   "source": [
    "test_loader = DeviceDataLoader(DataLoader(test_dataset, batch_size*2), device)\n",
    "result = evaluate(model, test_loader)\n",
    "result"
   ],
   "metadata": {
    "id": "Ol8i9P7sIqp_",
    "execution": {
     "iopub.status.busy": "2021-12-30T11:33:21.806967Z",
     "iopub.execute_input": "2021-12-30T11:33:21.807251Z",
     "iopub.status.idle": "2021-12-30T11:33:25.720970Z",
     "shell.execute_reply.started": "2021-12-30T11:33:21.807215Z",
     "shell.execute_reply": "2021-12-30T11:33:25.720316Z"
    },
    "trusted": true,
    "colab": {
     "base_uri": "https://localhost:8080/"
    },
    "outputId": "7651096f-6361-423a-9899-dc96e2cb0d75"
   },
   "execution_count": null,
   "outputs": []
  },
  {
   "cell_type": "markdown",
   "source": [
    "### Saving the model"
   ],
   "metadata": {
    "id": "1iUcGKalJCKi"
   }
  },
  {
   "cell_type": "code",
   "source": [
    "torch.save(model.state_dict(), 'cifar10-cnn.pth')\n",
    "\n",
    "#---------- To load the model ----------\n",
    "\n",
    "# model2 = to_device(Cifar10CnnModel(), device)\n",
    "# model2.load_state_dict(torch.load('cifar10-cnn.pth'))"
   ],
   "metadata": {
    "id": "P_kGF0ngI8by",
    "execution": {
     "iopub.status.busy": "2021-12-30T11:33:25.722194Z",
     "iopub.execute_input": "2021-12-30T11:33:25.722432Z",
     "iopub.status.idle": "2021-12-30T11:33:25.776935Z",
     "shell.execute_reply.started": "2021-12-30T11:33:25.722400Z",
     "shell.execute_reply": "2021-12-30T11:33:25.776202Z"
    },
    "trusted": true
   },
   "execution_count": null,
   "outputs": []
  },
  {
   "cell_type": "markdown",
   "source": [
    "<hr><hr>"
   ],
   "metadata": {
    "id": "Vn-ODtiqZpIf"
   }
  },
  {
   "cell_type": "markdown",
   "source": [
    "# Section 2: Using Resnet9 and various other techniques \n",
    "Target is to achieve 90% + accuracy"
   ],
   "metadata": {
    "id": "XZ417zLfMkeW"
   }
  },
  {
   "cell_type": "code",
   "source": [
    "import os\n",
    "import torch\n",
    "import torchvision\n",
    "import tarfile\n",
    "import torch.nn as nn\n",
    "import numpy as np\n",
    "import torch.nn.functional as F\n",
    "from torchvision.datasets.utils import download_url\n",
    "from torchvision.datasets import ImageFolder\n",
    "from torch.utils.data import DataLoader\n",
    "import torchvision.transforms as tt\n",
    "from torch.utils.data import random_split\n",
    "from torchvision.utils import make_grid\n",
    "import matplotlib\n",
    "import matplotlib.pyplot as plt\n",
    "%matplotlib inline"
   ],
   "metadata": {
    "id": "6tuP2RE3NCFA",
    "execution": {
     "iopub.status.busy": "2021-12-30T11:33:25.778427Z",
     "iopub.execute_input": "2021-12-30T11:33:25.778691Z",
     "iopub.status.idle": "2021-12-30T11:33:25.787233Z",
     "shell.execute_reply.started": "2021-12-30T11:33:25.778656Z",
     "shell.execute_reply": "2021-12-30T11:33:25.786239Z"
    },
    "trusted": true
   },
   "execution_count": null,
   "outputs": []
  },
  {
   "cell_type": "code",
   "source": [
    "project_name='05b-cifar10-resnet'"
   ],
   "metadata": {
    "id": "pxIeTETlNLJc",
    "execution": {
     "iopub.status.busy": "2021-12-30T11:33:25.788739Z",
     "iopub.execute_input": "2021-12-30T11:33:25.789164Z",
     "iopub.status.idle": "2021-12-30T11:33:25.800219Z",
     "shell.execute_reply.started": "2021-12-30T11:33:25.789128Z",
     "shell.execute_reply": "2021-12-30T11:33:25.799584Z"
    },
    "trusted": true
   },
   "execution_count": null,
   "outputs": []
  },
  {
   "cell_type": "markdown",
   "source": [
    "### Loading and Processing Dataset"
   ],
   "metadata": {
    "id": "K4bJJxIBK2aT"
   }
  },
  {
   "cell_type": "code",
   "source": [
    "from torchvision.datasets.utils import download_url\n",
    "\n",
    "# Download the dataset\n",
    "dataset_url = 'https://s3.amazonaws.com/fast-ai-imageclas/cifar10.tgz'\n",
    "download_url(dataset_url, '.')\n",
    "\n",
    "#Extract from archive\n",
    "with tarfile.open('./cifar10.tgz', 'r:gz') as tar:\n",
    "  tar.extractall(path='./data')\n",
    "    \n",
    "# Look into the data directory\n",
    "data_dir = './data/cifar10'\n",
    "print(os.listdir(data_dir))\n",
    "classes = os.listdir(data_dir + \"/train\")\n",
    "print(classes)"
   ],
   "metadata": {
    "id": "ARPfZ4X4NNwm",
    "execution": {
     "iopub.status.busy": "2021-12-30T11:33:25.801703Z",
     "iopub.execute_input": "2021-12-30T11:33:25.802326Z",
     "iopub.status.idle": "2021-12-30T11:33:42.348245Z",
     "shell.execute_reply.started": "2021-12-30T11:33:25.802288Z",
     "shell.execute_reply": "2021-12-30T11:33:42.347437Z"
    },
    "trusted": true,
    "colab": {
     "base_uri": "https://localhost:8080/"
    },
    "outputId": "c3f0b83c-df9d-4fde-e039-cc8117da8051"
   },
   "execution_count": null,
   "outputs": []
  },
  {
   "cell_type": "markdown",
   "source": [
    "Our target is to achieve maximum accuracy. Therefore we will do following important changes:\n",
    "1. Using test dataset as validation: to have more training data (although is it a bad practice)\n",
    "2. Channel-wize data normalization: normalize the image tensor by subtracting the mean an divind by std deviation. It prevents the values from any one channel from disproportionately affecting the losses and gradients while training simple by having a higher or wider range.\n",
    "<img src=\"https://i.imgur.com/LYxXBVg.png\" alt=\"normalization\" width=\"30%\"/>\n",
    "\n",
    "3. Randomized data augmentation: We will apply randomly chosen transformation while loading images from the training dataset. It enables the model to see different images in each epoch of training.\n",
    "<img src=\"https://imgaug.readthedocs.io/en/latest/_images/cropandpad_percent.jpg\" alt=\"data-augmentation\" width = 60% />\n"
   ],
   "metadata": {
    "id": "Uym4lMD1Omev"
   }
  },
  {
   "cell_type": "markdown",
   "source": [
    "### Data Transformation\n",
    "Normalization and Data Augmentation"
   ],
   "metadata": {
    "id": "bKZ_eYvTZurW"
   }
  },
  {
   "cell_type": "code",
   "source": [
    "#Data transforms (normalization and data augmentation)\n",
    "\n",
    "stats = ((0.4914, 0.4822, 0.4465),\n",
    "         (0.2023, 0.1994, 0.2010))\n",
    "\n",
    "train_tfms = tt.Compose([tt.RandomCrop(32, padding=4, padding_mode='reflect'),\n",
    "                         tt.RandomHorizontalFlip(),\n",
    "                         tt.ToTensor(),\n",
    "                         tt.Normalize(*stats, inplace=True)])\n",
    "\n",
    "valid_tfms = tt.Compose([tt.ToTensor(), tt.Normalize(*stats)])\n"
   ],
   "metadata": {
    "id": "hOq-d5jqNnXp",
    "execution": {
     "iopub.status.busy": "2021-12-30T11:33:42.349738Z",
     "iopub.execute_input": "2021-12-30T11:33:42.350000Z",
     "iopub.status.idle": "2021-12-30T11:33:42.356821Z",
     "shell.execute_reply.started": "2021-12-30T11:33:42.349965Z",
     "shell.execute_reply": "2021-12-30T11:33:42.356058Z"
    },
    "trusted": true
   },
   "execution_count": null,
   "outputs": []
  },
  {
   "cell_type": "code",
   "source": [
    "batch_size = 500 #hyperparameter"
   ],
   "metadata": {
    "id": "x3qxcQtCSowO",
    "execution": {
     "iopub.status.busy": "2021-12-30T11:33:42.358816Z",
     "iopub.execute_input": "2021-12-30T11:33:42.359166Z",
     "iopub.status.idle": "2021-12-30T11:33:42.365394Z",
     "shell.execute_reply.started": "2021-12-30T11:33:42.359128Z",
     "shell.execute_reply": "2021-12-30T11:33:42.364657Z"
    },
    "trusted": true
   },
   "execution_count": null,
   "outputs": []
  },
  {
   "cell_type": "code",
   "source": [
    "# PyTorch datasets\n",
    "train_ds = ImageFolder(data_dir+'/train', train_tfms)\n",
    "valid_ds = ImageFolder(data_dir+'/test', valid_tfms)"
   ],
   "metadata": {
    "id": "J-7m9_FvSraB",
    "execution": {
     "iopub.status.busy": "2021-12-30T11:33:42.366833Z",
     "iopub.execute_input": "2021-12-30T11:33:42.367226Z",
     "iopub.status.idle": "2021-12-30T11:33:42.689841Z",
     "shell.execute_reply.started": "2021-12-30T11:33:42.367191Z",
     "shell.execute_reply": "2021-12-30T11:33:42.689102Z"
    },
    "trusted": true
   },
   "execution_count": null,
   "outputs": []
  },
  {
   "cell_type": "code",
   "source": [
    "# Pytorch Data Loaders\n",
    "train_dl = DataLoader(train_ds, batch_size, shuffle=True, num_workers=2, pin_memory=True)\n",
    "valid_dl = DataLoader(valid_ds, batch_size*2, num_workers=2, pin_memory=True)"
   ],
   "metadata": {
    "execution": {
     "iopub.status.busy": "2021-12-30T11:33:42.691286Z",
     "iopub.execute_input": "2021-12-30T11:33:42.691554Z",
     "iopub.status.idle": "2021-12-30T11:33:42.697290Z",
     "shell.execute_reply.started": "2021-12-30T11:33:42.691505Z",
     "shell.execute_reply": "2021-12-30T11:33:42.696326Z"
    },
    "trusted": true,
    "id": "U0v52Sy9KjU1"
   },
   "execution_count": null,
   "outputs": []
  },
  {
   "cell_type": "code",
   "source": [
    "def denormalize(images, means, stds):\n",
    "    means = torch.tensor(means).reshape(1, 3, 1, 1)\n",
    "    stds = torch.tensor(stds).reshape(1, 3, 1, 1)\n",
    "    return images * stds + means\n",
    "\n",
    "def show_batch(dl):\n",
    "    for images, labels in dl:\n",
    "        fig, ax = plt.subplots(figsize=(12, 12))\n",
    "        ax.set_xticks([]); ax.set_yticks([])\n",
    "        denorm_images = denormalize(images, *stats)\n",
    "        ax.imshow(make_grid(denorm_images[:64], nrow=8).permute(1, 2, 0).clamp(0,1))\n",
    "        break"
   ],
   "metadata": {
    "id": "FgWpoHW3TTRW",
    "execution": {
     "iopub.status.busy": "2021-12-30T11:33:42.698761Z",
     "iopub.execute_input": "2021-12-30T11:33:42.699300Z",
     "iopub.status.idle": "2021-12-30T11:33:42.708252Z",
     "shell.execute_reply.started": "2021-12-30T11:33:42.699264Z",
     "shell.execute_reply": "2021-12-30T11:33:42.707502Z"
    },
    "trusted": true
   },
   "execution_count": null,
   "outputs": []
  },
  {
   "cell_type": "code",
   "source": [
    "show_batch(train_dl)"
   ],
   "metadata": {
    "id": "6otYqVpdTdnL",
    "execution": {
     "iopub.status.busy": "2021-12-30T11:33:42.710966Z",
     "iopub.execute_input": "2021-12-30T11:33:42.711172Z",
     "iopub.status.idle": "2021-12-30T11:33:44.319815Z",
     "shell.execute_reply.started": "2021-12-30T11:33:42.711142Z",
     "shell.execute_reply": "2021-12-30T11:33:44.319067Z"
    },
    "trusted": true,
    "colab": {
     "base_uri": "https://localhost:8080/",
     "height": 687
    },
    "outputId": "81932c13-8266-44d4-c5e2-63255ffa93fd"
   },
   "execution_count": null,
   "outputs": []
  },
  {
   "cell_type": "markdown",
   "source": [
    "### Uploading on GPU"
   ],
   "metadata": {
    "id": "numdDnSpK5bu"
   }
  },
  {
   "cell_type": "code",
   "source": [
    "### Using a GPU\n",
    "def get_default_device():\n",
    "    \"\"\"Pick GPU if available, else CPU\"\"\"\n",
    "    if torch.cuda.is_available():\n",
    "        return torch.device('cuda')\n",
    "    else:\n",
    "        return torch.device('cpu')\n",
    "    \n",
    "def to_device(data, device):\n",
    "    \"\"\"Move tensor(s) to chosen device\"\"\"\n",
    "    if isinstance(data, (list,tuple)):\n",
    "        return [to_device(x, device) for x in data]\n",
    "    return data.to(device, non_blocking=True)\n",
    "\n",
    "class DeviceDataLoader():\n",
    "    \"\"\"Wrap a dataloader to move data to a device\"\"\"\n",
    "    def __init__(self, dl, device):\n",
    "        self.dl = dl\n",
    "        self.device = device\n",
    "        \n",
    "    def __iter__(self):\n",
    "        \"\"\"Yield a batch of data after moving it to device\"\"\"\n",
    "        for b in self.dl: \n",
    "            yield to_device(b, self.device)\n",
    "\n",
    "    def __len__(self):\n",
    "        \"\"\"Number of batches\"\"\"\n",
    "        return len(self.dl)"
   ],
   "metadata": {
    "id": "YAMIMF1Zbszx",
    "execution": {
     "iopub.status.busy": "2021-12-30T11:33:44.321304Z",
     "iopub.execute_input": "2021-12-30T11:33:44.321675Z",
     "iopub.status.idle": "2021-12-30T11:33:44.331853Z",
     "shell.execute_reply.started": "2021-12-30T11:33:44.321642Z",
     "shell.execute_reply": "2021-12-30T11:33:44.331126Z"
    },
    "trusted": true
   },
   "execution_count": null,
   "outputs": []
  },
  {
   "cell_type": "code",
   "source": [
    "device = get_default_device()\n",
    "device\n"
   ],
   "metadata": {
    "id": "hLCEkjGCb4bs",
    "execution": {
     "iopub.status.busy": "2021-12-30T11:33:44.333173Z",
     "iopub.execute_input": "2021-12-30T11:33:44.333539Z",
     "iopub.status.idle": "2021-12-30T11:33:44.342824Z",
     "shell.execute_reply.started": "2021-12-30T11:33:44.333503Z",
     "shell.execute_reply": "2021-12-30T11:33:44.342037Z"
    },
    "trusted": true,
    "colab": {
     "base_uri": "https://localhost:8080/"
    },
    "outputId": "003ac6ab-bcb5-45c1-9788-eb40c053142d"
   },
   "execution_count": null,
   "outputs": []
  },
  {
   "cell_type": "code",
   "source": [
    "train_dl = DeviceDataLoader(train_dl, device)\n",
    "valid_dl = DeviceDataLoader(valid_dl, device)"
   ],
   "metadata": {
    "id": "Sxt0ihrab62T",
    "execution": {
     "iopub.status.busy": "2021-12-30T11:33:44.344404Z",
     "iopub.execute_input": "2021-12-30T11:33:44.345257Z",
     "iopub.status.idle": "2021-12-30T11:33:44.350197Z",
     "shell.execute_reply.started": "2021-12-30T11:33:44.345221Z",
     "shell.execute_reply": "2021-12-30T11:33:44.349495Z"
    },
    "trusted": true
   },
   "execution_count": null,
   "outputs": []
  },
  {
   "cell_type": "markdown",
   "source": [
    "### Model with Residual Block and batch normalization\n",
    "One of the key changes to our CNN model this time is the addition of the resudial block, which adds the original input back to the output feature map obtained by passing the input through one or more convolutional layers\n",
    "<br><br>\n",
    "<img src=\"https://miro.medium.com/max/1140/1*D0F3UitQ2l5Q0Ak-tjEdJg.png\"/>\n",
    "\n",
    "Defining a Simple Residual Block"
   ],
   "metadata": {
    "id": "gmlmfu4GVWLn"
   }
  },
  {
   "cell_type": "code",
   "source": [
    "class SimpleResidualBlock(nn.Module):\n",
    "    def __init__(self):\n",
    "        super().__init__()\n",
    "        self.conv1 = nn.Conv2d(in_channels=3, out_channels=3, kernel_size=3, stride=1, padding=1)\n",
    "        self.relu1 = activation_function\n",
    "        self.conv2 = nn.Conv2d(in_channels=3, out_channels=3, kernel_size=3, stride=1, padding=1)\n",
    "        self.relu2 = activation_function\n",
    "        \n",
    "    def forward(self, x):\n",
    "        out = self.conv1(x)\n",
    "        out = self.relu1(out)\n",
    "        out = self.conv2(out)\n",
    "        return self.relu2(out) + x # ReLU can be applied before or after adding the input"
   ],
   "metadata": {
    "id": "xgyIVzVTTf8-",
    "execution": {
     "iopub.status.busy": "2021-12-30T11:33:44.351436Z",
     "iopub.execute_input": "2021-12-30T11:33:44.352380Z",
     "iopub.status.idle": "2021-12-30T11:33:44.360779Z",
     "shell.execute_reply.started": "2021-12-30T11:33:44.352342Z",
     "shell.execute_reply": "2021-12-30T11:33:44.360095Z"
    },
    "trusted": true
   },
   "execution_count": null,
   "outputs": []
  },
  {
   "cell_type": "code",
   "source": [
    "simple_resnet = to_device(SimpleResidualBlock(), device)\n",
    "\n",
    "for images, labels in train_dl:\n",
    "    out = simple_resnet(images)\n",
    "    print(out.shape)\n",
    "    break\n",
    "    \n",
    "del simple_resnet, images, labels\n",
    "torch.cuda.empty_cache()"
   ],
   "metadata": {
    "id": "_w7lkNV6V2dq",
    "execution": {
     "iopub.status.busy": "2021-12-30T11:33:44.362117Z",
     "iopub.execute_input": "2021-12-30T11:33:44.362865Z",
     "iopub.status.idle": "2021-12-30T11:33:46.016948Z",
     "shell.execute_reply.started": "2021-12-30T11:33:44.362828Z",
     "shell.execute_reply": "2021-12-30T11:33:46.015986Z"
    },
    "trusted": true,
    "colab": {
     "base_uri": "https://localhost:8080/"
    },
    "outputId": "d0974efb-94b5-4da7-881e-65f790d53acc"
   },
   "execution_count": null,
   "outputs": []
  },
  {
   "cell_type": "markdown",
   "source": [
    "We shall use ResNet architecture.\n",
    "<img src='https://raw.githubusercontent.com/lambdal/cifar10-fast/master/net.svg' />"
   ],
   "metadata": {
    "id": "SRR5wdPFWMGB"
   }
  },
  {
   "cell_type": "markdown",
   "source": [
    "Extending nn.Module class"
   ],
   "metadata": {
    "id": "glsv4e8NaRVE"
   }
  },
  {
   "cell_type": "code",
   "source": [
    "def accuracy(outputs, labels):\n",
    "    _, preds = torch.max(outputs, dim=1)\n",
    "    return torch.tensor(torch.sum(preds == labels).item() / len(preds))\n",
    "\n",
    "class ImageClassificationBase(nn.Module):\n",
    "    def training_step(self, batch):\n",
    "        images, labels = batch \n",
    "        out = self(images)                  # Generate predictions\n",
    "        loss = F.cross_entropy(out, labels) # Calculate loss\n",
    "        return loss\n",
    "    \n",
    "    def validation_step(self, batch):\n",
    "        images, labels = batch \n",
    "        out = self(images)                    # Generate predictions\n",
    "        loss = F.cross_entropy(out, labels)   # Calculate loss\n",
    "        acc = accuracy(out, labels)           # Calculate accuracy\n",
    "        return {'val_loss': loss.detach(), 'val_acc': acc}\n",
    "        \n",
    "    def validation_epoch_end(self, outputs):\n",
    "        batch_losses = [x['val_loss'] for x in outputs]\n",
    "        epoch_loss = torch.stack(batch_losses).mean()   # Combine losses\n",
    "        batch_accs = [x['val_acc'] for x in outputs]\n",
    "        epoch_acc = torch.stack(batch_accs).mean()      # Combine accuracies\n",
    "        return {'val_loss': epoch_loss.item(), 'val_acc': epoch_acc.item()}\n",
    "    \n",
    "    def epoch_end(self, epoch, result):\n",
    "        print(\"Epoch [{}], last_lr: {:.5f}, train_loss: {:.4f}, val_loss: {:.4f}, val_acc: {:.4f}\".format(\n",
    "            epoch, result['lrs'][-1], result['train_loss'], result['val_loss'], result['val_acc']))"
   ],
   "metadata": {
    "id": "CXgudyPxV44U",
    "execution": {
     "iopub.status.busy": "2021-12-30T11:33:46.021493Z",
     "iopub.execute_input": "2021-12-30T11:33:46.022011Z",
     "iopub.status.idle": "2021-12-30T11:33:46.036164Z",
     "shell.execute_reply.started": "2021-12-30T11:33:46.021975Z",
     "shell.execute_reply": "2021-12-30T11:33:46.035133Z"
    },
    "trusted": true
   },
   "execution_count": null,
   "outputs": []
  },
  {
   "cell_type": "markdown",
   "source": [
    "Building our architecture:"
   ],
   "metadata": {
    "id": "A5tVeEKAaUS5"
   }
  },
  {
   "cell_type": "code",
   "source": [
    "def conv_block(in_channels, out_channels, pool=False):\n",
    "    layers = [nn.Conv2d(in_channels, out_channels, kernel_size=3, padding=1), \n",
    "              nn.BatchNorm2d(out_channels), \n",
    "              activation_function]\n",
    "    if pool: layers.append(nn.MaxPool2d(2))\n",
    "    return nn.Sequential(*layers)\n",
    "\n",
    "class ResNet9(ImageClassificationBase):\n",
    "    def __init__(self, in_channels, num_classes):\n",
    "        super().__init__()\n",
    "        \n",
    "        self.conv1 = conv_block(in_channels, 64)\n",
    "        self.conv2 = conv_block(64, 128, pool=True)\n",
    "        self.res1 = nn.Sequential(conv_block(128, 128), conv_block(128, 128))\n",
    "        \n",
    "        self.conv3 = conv_block(128, 256, pool=True)\n",
    "        self.conv4 = conv_block(256, 512, pool=True)\n",
    "        self.res2 = nn.Sequential(conv_block(512, 512), conv_block(512, 512))\n",
    "        \n",
    "        self.classifier = nn.Sequential(nn.MaxPool2d(4), \n",
    "                                        nn.Flatten(), \n",
    "                                        nn.Dropout(0.2),\n",
    "                                        nn.Linear(512, num_classes))\n",
    "        \n",
    "    def forward(self, xb):\n",
    "        out = self.conv1(xb)\n",
    "        out = self.conv2(out)\n",
    "        out = self.res1(out) + out\n",
    "        out = self.conv3(out)\n",
    "        out = self.conv4(out)\n",
    "        out = self.res2(out) + out\n",
    "        out = self.classifier(out)\n",
    "        return out"
   ],
   "metadata": {
    "id": "kKylh0ShWrvl",
    "execution": {
     "iopub.status.busy": "2021-12-30T11:33:46.038136Z",
     "iopub.execute_input": "2021-12-30T11:33:46.038552Z",
     "iopub.status.idle": "2021-12-30T11:33:46.053286Z",
     "shell.execute_reply.started": "2021-12-30T11:33:46.038495Z",
     "shell.execute_reply": "2021-12-30T11:33:46.052276Z"
    },
    "trusted": true
   },
   "execution_count": null,
   "outputs": []
  },
  {
   "cell_type": "code",
   "source": [
    "model = to_device(ResNet9(3, 10), device)\n",
    "model"
   ],
   "metadata": {
    "id": "bt7mPRPGWusq",
    "execution": {
     "iopub.status.busy": "2021-12-30T11:33:46.055499Z",
     "iopub.execute_input": "2021-12-30T11:33:46.056392Z",
     "iopub.status.idle": "2021-12-30T11:33:46.137601Z",
     "shell.execute_reply.started": "2021-12-30T11:33:46.056347Z",
     "shell.execute_reply": "2021-12-30T11:33:46.136916Z"
    },
    "trusted": true,
    "colab": {
     "base_uri": "https://localhost:8080/"
    },
    "outputId": "20273426-a17e-43f2-ba44-d9e4378b3a90"
   },
   "execution_count": null,
   "outputs": []
  },
  {
   "cell_type": "markdown",
   "source": [
    "### Training the Model\n",
    "The improvements in fit functions are:\n",
    "1. Learning rate scheduling: Instead of using a fixed learning rate, we will use a learning rate scheduler, which will change the learning rate after every batch of training. We will use one cycle policy [1cycle policy](https://sgugger.github.io/the-1cycle-policy.html).\n",
    "2. Weight Decay: A regularization technique which prevents the weights from becoming too large by adding an additional term to the loss function.\n",
    "3. Gradient clipping: Apart from the layer weights and outputs, it also helpful to limit the values of gradients to a small range to prevent undesirable changes in parameters due to large gradient values\n"
   ],
   "metadata": {
    "id": "VKHDAsKwW0TF"
   }
  },
  {
   "cell_type": "code",
   "source": [
    "@torch.no_grad()\n",
    "def evaluate(model, val_loader):\n",
    "    model.eval()\n",
    "    outputs = [model.validation_step(batch) for batch in val_loader]\n",
    "    return model.validation_epoch_end(outputs)\n",
    "\n",
    "def get_lr(optimizer):\n",
    "    for param_group in optimizer.param_groups:\n",
    "        return param_group['lr']\n",
    "\n",
    "def fit_one_cycle(epochs, max_lr, model, train_loader, val_loader, \n",
    "                  weight_decay=0, grad_clip=None, opt_func=torch.optim.SGD):\n",
    "    torch.cuda.empty_cache()\n",
    "    history = []\n",
    "    \n",
    "    # Set up cutom optimizer with weight decay\n",
    "    optimizer = opt_func(model.parameters(), max_lr, weight_decay=weight_decay)\n",
    "    # Set up one-cycle learning rate scheduler\n",
    "    sched = torch.optim.lr_scheduler.OneCycleLR(optimizer, max_lr, epochs=epochs, \n",
    "                                                steps_per_epoch=len(train_loader))\n",
    "    \n",
    "    for epoch in range(epochs):\n",
    "        # Training Phase \n",
    "        model.train()\n",
    "        train_losses = []\n",
    "        lrs = []\n",
    "        for batch in train_loader:\n",
    "            loss = model.training_step(batch)\n",
    "            train_losses.append(loss)\n",
    "            loss.backward()\n",
    "            \n",
    "            # Gradient clipping\n",
    "            if grad_clip: \n",
    "                nn.utils.clip_grad_value_(model.parameters(), grad_clip)\n",
    "            \n",
    "            optimizer.step()\n",
    "            optimizer.zero_grad()\n",
    "            \n",
    "            # Record & update learning rate\n",
    "            lrs.append(get_lr(optimizer))\n",
    "            sched.step()\n",
    "        \n",
    "        # Validation phase\n",
    "        result = evaluate(model, val_loader)\n",
    "        result['train_loss'] = torch.stack(train_losses).mean().item()\n",
    "        result['lrs'] = lrs\n",
    "        model.epoch_end(epoch, result)\n",
    "        history.append(result)\n",
    "    return history"
   ],
   "metadata": {
    "id": "O7FahLmCWyBZ",
    "execution": {
     "iopub.status.busy": "2021-12-30T11:33:46.138986Z",
     "iopub.execute_input": "2021-12-30T11:33:46.139239Z",
     "iopub.status.idle": "2021-12-30T11:33:46.150904Z",
     "shell.execute_reply.started": "2021-12-30T11:33:46.139206Z",
     "shell.execute_reply": "2021-12-30T11:33:46.150205Z"
    },
    "trusted": true
   },
   "execution_count": null,
   "outputs": []
  },
  {
   "cell_type": "code",
   "source": [
    "# Evaluating the model before training\n",
    "history = [evaluate(model, valid_dl)]\n",
    "history"
   ],
   "metadata": {
    "id": "WXfxqL_lXb90",
    "execution": {
     "iopub.status.busy": "2021-12-30T11:33:46.152301Z",
     "iopub.execute_input": "2021-12-30T11:33:46.152927Z",
     "iopub.status.idle": "2021-12-30T11:33:49.773809Z",
     "shell.execute_reply.started": "2021-12-30T11:33:46.152886Z",
     "shell.execute_reply": "2021-12-30T11:33:49.773039Z"
    },
    "trusted": true,
    "colab": {
     "base_uri": "https://localhost:8080/"
    },
    "outputId": "bcf3dce9-dc7a-4d3a-925b-53fe70df703b"
   },
   "execution_count": null,
   "outputs": []
  },
  {
   "cell_type": "code",
   "source": [
    "epochs = 16\n",
    "max_lr = 0.01\n",
    "grad_clip = 0.1\n",
    "weight_decay = 1e-4\n",
    "opt_func = torch.optim.Adam"
   ],
   "metadata": {
    "id": "P3-yDSAWXeE-",
    "execution": {
     "iopub.status.busy": "2021-12-30T11:33:49.775263Z",
     "iopub.execute_input": "2021-12-30T11:33:49.775535Z",
     "iopub.status.idle": "2021-12-30T11:33:49.780662Z",
     "shell.execute_reply.started": "2021-12-30T11:33:49.775497Z",
     "shell.execute_reply": "2021-12-30T11:33:49.779657Z"
    },
    "trusted": true
   },
   "execution_count": null,
   "outputs": []
  },
  {
   "cell_type": "code",
   "source": [
    "%%time\n",
    "history += fit_one_cycle(epochs, max_lr, model, train_dl, valid_dl,\n",
    "                             grad_clip=grad_clip,\n",
    "                             weight_decay=weight_decay,\n",
    "                             opt_func=opt_func)"
   ],
   "metadata": {
    "id": "j33mfscfXloE",
    "execution": {
     "iopub.status.busy": "2021-12-30T11:33:49.781800Z",
     "iopub.execute_input": "2021-12-30T11:33:49.782306Z",
     "iopub.status.idle": "2021-12-30T11:42:12.417630Z",
     "shell.execute_reply.started": "2021-12-30T11:33:49.782268Z",
     "shell.execute_reply": "2021-12-30T11:42:12.416797Z"
    },
    "trusted": true,
    "colab": {
     "base_uri": "https://localhost:8080/"
    },
    "outputId": "4dd47383-a1a9-4e3f-f4ba-c9f1e0276344"
   },
   "execution_count": null,
   "outputs": []
  },
  {
   "cell_type": "code",
   "source": [
    "def plot_accuracies(history):\n",
    "    accuracies = [x['val_acc'] for x in history]\n",
    "    plt.plot(accuracies, '-x')\n",
    "    plt.xlabel('epoch')\n",
    "    plt.ylabel('accuracy')\n",
    "    plt.title('Accuracy vs. No. of epochs');"
   ],
   "metadata": {
    "id": "PIFvgOAHXueS",
    "execution": {
     "iopub.status.busy": "2021-12-30T11:42:12.426167Z",
     "iopub.execute_input": "2021-12-30T11:42:12.426590Z",
     "iopub.status.idle": "2021-12-30T11:42:12.435374Z",
     "shell.execute_reply.started": "2021-12-30T11:42:12.426553Z",
     "shell.execute_reply": "2021-12-30T11:42:12.434658Z"
    },
    "trusted": true
   },
   "execution_count": null,
   "outputs": []
  },
  {
   "cell_type": "code",
   "source": [
    "plot_accuracies(history)"
   ],
   "metadata": {
    "id": "r3vA9n2uXzwW",
    "execution": {
     "iopub.status.busy": "2021-12-30T11:42:12.436678Z",
     "iopub.execute_input": "2021-12-30T11:42:12.436993Z",
     "iopub.status.idle": "2021-12-30T11:42:12.655776Z",
     "shell.execute_reply.started": "2021-12-30T11:42:12.436957Z",
     "shell.execute_reply": "2021-12-30T11:42:12.655020Z"
    },
    "trusted": true,
    "colab": {
     "base_uri": "https://localhost:8080/",
     "height": 295
    },
    "outputId": "2d73903e-5acb-478c-f2ee-5a7b2452fa6d"
   },
   "execution_count": null,
   "outputs": []
  },
  {
   "cell_type": "code",
   "source": [
    "def plot_losses(history):\n",
    "    train_losses = [x.get('train_loss') for x in history]\n",
    "    val_losses = [x['val_loss'] for x in history]\n",
    "    plt.plot(train_losses, '-bx')\n",
    "    plt.plot(val_losses, '-rx')\n",
    "    plt.xlabel('epoch')\n",
    "    plt.ylabel('loss')\n",
    "    plt.legend(['Training', 'Validation'])\n",
    "    plt.title('Loss vs. No. of epochs');"
   ],
   "metadata": {
    "id": "WYogsR-NX2Pw",
    "execution": {
     "iopub.status.busy": "2021-12-30T11:42:12.657382Z",
     "iopub.execute_input": "2021-12-30T11:42:12.657655Z",
     "iopub.status.idle": "2021-12-30T11:42:12.662961Z",
     "shell.execute_reply.started": "2021-12-30T11:42:12.657618Z",
     "shell.execute_reply": "2021-12-30T11:42:12.662296Z"
    },
    "trusted": true
   },
   "execution_count": null,
   "outputs": []
  },
  {
   "cell_type": "code",
   "source": [
    "plot_losses(history)"
   ],
   "metadata": {
    "id": "YdW_ikBCX39B",
    "execution": {
     "iopub.status.busy": "2021-12-30T11:42:12.664464Z",
     "iopub.execute_input": "2021-12-30T11:42:12.664964Z",
     "iopub.status.idle": "2021-12-30T11:42:12.883009Z",
     "shell.execute_reply.started": "2021-12-30T11:42:12.664925Z",
     "shell.execute_reply": "2021-12-30T11:42:12.882318Z"
    },
    "trusted": true,
    "colab": {
     "base_uri": "https://localhost:8080/",
     "height": 295
    },
    "outputId": "e638e3d4-ed99-4e0e-e1af-5cbdb93eaa91"
   },
   "execution_count": null,
   "outputs": []
  },
  {
   "cell_type": "code",
   "source": [
    "def plot_lrs(history):\n",
    "    lrs = np.concatenate([x.get('lrs', []) for x in history])\n",
    "    plt.plot(lrs)\n",
    "    plt.xlabel('Batch no.')\n",
    "    plt.ylabel('Learning rate')\n",
    "    plt.title('Learning Rate vs. Batch no.');"
   ],
   "metadata": {
    "id": "6H_JXh4LX5DO",
    "execution": {
     "iopub.status.busy": "2021-12-30T11:42:12.884304Z",
     "iopub.execute_input": "2021-12-30T11:42:12.884709Z",
     "iopub.status.idle": "2021-12-30T11:42:12.890092Z",
     "shell.execute_reply.started": "2021-12-30T11:42:12.884670Z",
     "shell.execute_reply": "2021-12-30T11:42:12.889438Z"
    },
    "trusted": true
   },
   "execution_count": null,
   "outputs": []
  },
  {
   "cell_type": "code",
   "source": [
    "plot_lrs(history)"
   ],
   "metadata": {
    "id": "0cnzVozmX6jz",
    "execution": {
     "iopub.status.busy": "2021-12-30T11:43:29.842284Z",
     "iopub.execute_input": "2021-12-30T11:43:29.842887Z",
     "iopub.status.idle": "2021-12-30T11:43:30.052635Z",
     "shell.execute_reply.started": "2021-12-30T11:43:29.842843Z",
     "shell.execute_reply": "2021-12-30T11:43:30.051924Z"
    },
    "trusted": true,
    "colab": {
     "base_uri": "https://localhost:8080/",
     "height": 295
    },
    "outputId": "144f2abc-0c5e-4124-86da-d50d03250056"
   },
   "execution_count": null,
   "outputs": []
  },
  {
   "cell_type": "markdown",
   "source": [
    "## Testing with individual images\n"
   ],
   "metadata": {
    "id": "eNqVak6gX-Ri"
   }
  },
  {
   "cell_type": "code",
   "source": [
    "def predict_image(img, model):\n",
    "    # Convert to a batch of 1\n",
    "    xb = to_device(img.unsqueeze(0), device)\n",
    "    # Get predictions from model\n",
    "    yb = model(xb)\n",
    "    # Pick index with highest probability\n",
    "    _, preds  = torch.max(yb, dim=1)\n",
    "    # Retrieve the class label\n",
    "    return train_ds.classes[preds[0].item()]"
   ],
   "metadata": {
    "id": "r5rKlNENX7ry",
    "execution": {
     "iopub.status.busy": "2021-12-30T11:43:33.593843Z",
     "iopub.execute_input": "2021-12-30T11:43:33.594163Z",
     "iopub.status.idle": "2021-12-30T11:43:33.599212Z",
     "shell.execute_reply.started": "2021-12-30T11:43:33.594131Z",
     "shell.execute_reply": "2021-12-30T11:43:33.598506Z"
    },
    "trusted": true
   },
   "execution_count": null,
   "outputs": []
  },
  {
   "cell_type": "code",
   "source": [
    "img, label = valid_ds[3001]\n",
    "plt.imshow(img.permute(1, 2, 0))\n",
    "print('Label:', valid_ds.classes[label], ', Predicted:', predict_image(img, model))"
   ],
   "metadata": {
    "id": "jCfQn6OYYB8h",
    "execution": {
     "iopub.status.busy": "2021-12-30T11:43:33.812561Z",
     "iopub.execute_input": "2021-12-30T11:43:33.813031Z",
     "iopub.status.idle": "2021-12-30T11:43:34.006986Z",
     "shell.execute_reply.started": "2021-12-30T11:43:33.812992Z",
     "shell.execute_reply": "2021-12-30T11:43:34.006272Z"
    },
    "trusted": true,
    "colab": {
     "base_uri": "https://localhost:8080/",
     "height": 301
    },
    "outputId": "9489919e-e5a9-4860-cf60-755bc88a09b9"
   },
   "execution_count": null,
   "outputs": []
  },
  {
   "cell_type": "code",
   "source": [
    "torch.save(model.state_dict(), 'cifar10-resnet9-2.pth')"
   ],
   "metadata": {
    "id": "L5hJDya1YEUs",
    "execution": {
     "iopub.status.busy": "2021-12-30T11:43:36.970063Z",
     "iopub.execute_input": "2021-12-30T11:43:36.970810Z",
     "iopub.status.idle": "2021-12-30T11:43:37.043558Z",
     "shell.execute_reply.started": "2021-12-30T11:43:36.970773Z",
     "shell.execute_reply": "2021-12-30T11:43:37.042678Z"
    },
    "trusted": true
   },
   "execution_count": null,
   "outputs": []
  },
  {
   "cell_type": "code",
   "source": [
    "# ######## TO FREE GPU Memory #############\n",
    "\n",
    "\n",
    "# !pip install GPUtil\n",
    "# import torch\n",
    "# from GPUtil import showUtilization as gpu_usage\n",
    "# from numba import cuda\n",
    "\n",
    "# def free_gpu_cache():\n",
    "#     print(\"Initial GPU Usage\")\n",
    "#     gpu_usage()\n",
    "#     torch.cuda.empty_cache()\n",
    "#     cuda.select_device(0)\n",
    "#     cuda.close()\n",
    "#     cuda.select_device(0)\n",
    "#     print(\"GPU Usage after emptying the cache\")\n",
    "#     gpu_usage()\n",
    "\n",
    "# free_gpu_cache()                           "
   ],
   "metadata": {
    "id": "n13rcNXsicTx"
   },
   "execution_count": null,
   "outputs": []
  },
  {
   "cell_type": "markdown",
   "source": [
    "## Summary and References\n",
    "We trained state-of-the-art deep learning models from scratch.\n",
    "\n",
    "Here's a summary of the different techniques used in this project to improve our model performance and reduce the training time:\n",
    "\n",
    "\n",
    "* **Data normalization**: We normalized the image tensors by subtracting the mean and dividing by the standard deviation of pixels across each channel. Normalizing the data prevents the pixel values from any one channel from disproportionately affecting the losses and gradients. [Learn more](https://medium.com/@ml_kid/what-is-transform-and-transform-normalize-lesson-4-neural-networks-in-pytorch-ca97842336bd)\n",
    "\n",
    "* **Data augmentation**: We applied random transformations while loading images from the training dataset. Specifically, we will pad each image by 4 pixels, and then take a random crop of size 32 x 32 pixels, and then flip the image horizontally with a 50% probability. [Learn more](https://www.analyticsvidhya.com/blog/2019/12/image-augmentation-deep-learning-pytorch/)\n",
    "\n",
    "* **Residual connections**: One of the key changes to our CNN model was the addition of the resudial block, which adds the original input back to the output feature map obtained by passing the input through one or more convolutional layers. We used the ResNet9 architecture [Learn more](https://towardsdatascience.com/residual-blocks-building-blocks-of-resnet-fd90ca15d6ec).\n",
    "\n",
    "* **Batch normalization**: After each convolutional layer, we added a batch normalization layer, which normalizes the outputs of the previous layer. This is somewhat similar to data normalization, except it's applied to the outputs of a layer, and the mean and standard deviation are learned parameters. [Learn more](https://towardsdatascience.com/batch-normalization-and-dropout-in-neural-networks-explained-with-pytorch-47d7a8459bcd)\n",
    "\n",
    "* **Learning rate scheduling**: Instead of using a fixed learning rate, we will use a learning rate scheduler, which will change the learning rate after every batch of training. There are [many strategies](https://pytorch.org/docs/stable/optim.html#how-to-adjust-learning-rate) for varying the learning rate during training, and we used the \"One Cycle Learning Rate Policy\". [Learn more](https://sgugger.github.io/the-1cycle-policy.html)\n",
    "\n",
    "* **Weight Decay**: We added weight decay to the optimizer, yet another regularization technique which prevents the weights from becoming too large by adding an additional term to the loss function. [Learn more](https://towardsdatascience.com/this-thing-called-weight-decay-a7cd4bcfccab)\n",
    "\n",
    "* **Gradient clipping**: We also added gradient clippint, which helps limit the values of gradients to a small range to prevent undesirable changes in model parameters due to large gradient values during training.  [Learn more.](https://towardsdatascience.com/what-is-gradient-clipping-b8e815cdfb48#63e0)\n",
    "\n",
    "* **Adam optimizer**: Instead of SGD (stochastic gradient descent), we used the Adam optimizer which uses techniques like momentum and adaptive learning rates for faster training. There are many other optimizers to choose froma and experiment with. [Learn more.](https://ruder.io/optimizing-gradient-descent/index.html)\n",
    "\n",
    "<hr><hr>"
   ],
   "metadata": {
    "id": "EbKz7bv4YUjX"
   }
  },
  {
   "cell_type": "markdown",
   "source": [
    "<span> -------------------- THE END -------------------- </span>\n"
   ],
   "metadata": {
    "id": "2jLpMacvcb1a"
   }
  }
 ]
}